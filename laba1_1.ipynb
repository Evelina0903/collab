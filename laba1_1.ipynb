{
  "nbformat": 4,
  "nbformat_minor": 0,
  "metadata": {
    "colab": {
      "provenance": [],
      "authorship_tag": "ABX9TyOizyuHbhjQ989hZulJuOU7",
      "include_colab_link": true
    },
    "kernelspec": {
      "name": "python3",
      "display_name": "Python 3"
    },
    "language_info": {
      "name": "python"
    }
  },
  "cells": [
    {
      "cell_type": "markdown",
      "metadata": {
        "id": "view-in-github",
        "colab_type": "text"
      },
      "source": [
        "<a href=\"https://colab.research.google.com/github/Evelina0903/collab/blob/main/laba1_1.ipynb\" target=\"_parent\"><img src=\"https://colab.research.google.com/assets/colab-badge.svg\" alt=\"Open In Colab\"/></a>"
      ]
    },
    {
      "cell_type": "code",
      "execution_count": null,
      "metadata": {
        "colab": {
          "base_uri": "https://localhost:8080/",
          "height": 74
        },
        "id": "wa7u6nMQe0ws",
        "outputId": "8a2a1b66-ec3b-4d64-df59-b8c654f4b455"
      },
      "outputs": [
        {
          "output_type": "display_data",
          "data": {
            "text/plain": [
              "<IPython.core.display.HTML object>"
            ],
            "text/html": [
              "\n",
              "     <input type=\"file\" id=\"files-b8e3a033-46a5-426e-ab15-7fc0fd5e36c8\" name=\"files[]\" multiple disabled\n",
              "        style=\"border:none\" />\n",
              "     <output id=\"result-b8e3a033-46a5-426e-ab15-7fc0fd5e36c8\">\n",
              "      Upload widget is only available when the cell has been executed in the\n",
              "      current browser session. Please rerun this cell to enable.\n",
              "      </output>\n",
              "      <script>// Copyright 2017 Google LLC\n",
              "//\n",
              "// Licensed under the Apache License, Version 2.0 (the \"License\");\n",
              "// you may not use this file except in compliance with the License.\n",
              "// You may obtain a copy of the License at\n",
              "//\n",
              "//      http://www.apache.org/licenses/LICENSE-2.0\n",
              "//\n",
              "// Unless required by applicable law or agreed to in writing, software\n",
              "// distributed under the License is distributed on an \"AS IS\" BASIS,\n",
              "// WITHOUT WARRANTIES OR CONDITIONS OF ANY KIND, either express or implied.\n",
              "// See the License for the specific language governing permissions and\n",
              "// limitations under the License.\n",
              "\n",
              "/**\n",
              " * @fileoverview Helpers for google.colab Python module.\n",
              " */\n",
              "(function(scope) {\n",
              "function span(text, styleAttributes = {}) {\n",
              "  const element = document.createElement('span');\n",
              "  element.textContent = text;\n",
              "  for (const key of Object.keys(styleAttributes)) {\n",
              "    element.style[key] = styleAttributes[key];\n",
              "  }\n",
              "  return element;\n",
              "}\n",
              "\n",
              "// Max number of bytes which will be uploaded at a time.\n",
              "const MAX_PAYLOAD_SIZE = 100 * 1024;\n",
              "\n",
              "function _uploadFiles(inputId, outputId) {\n",
              "  const steps = uploadFilesStep(inputId, outputId);\n",
              "  const outputElement = document.getElementById(outputId);\n",
              "  // Cache steps on the outputElement to make it available for the next call\n",
              "  // to uploadFilesContinue from Python.\n",
              "  outputElement.steps = steps;\n",
              "\n",
              "  return _uploadFilesContinue(outputId);\n",
              "}\n",
              "\n",
              "// This is roughly an async generator (not supported in the browser yet),\n",
              "// where there are multiple asynchronous steps and the Python side is going\n",
              "// to poll for completion of each step.\n",
              "// This uses a Promise to block the python side on completion of each step,\n",
              "// then passes the result of the previous step as the input to the next step.\n",
              "function _uploadFilesContinue(outputId) {\n",
              "  const outputElement = document.getElementById(outputId);\n",
              "  const steps = outputElement.steps;\n",
              "\n",
              "  const next = steps.next(outputElement.lastPromiseValue);\n",
              "  return Promise.resolve(next.value.promise).then((value) => {\n",
              "    // Cache the last promise value to make it available to the next\n",
              "    // step of the generator.\n",
              "    outputElement.lastPromiseValue = value;\n",
              "    return next.value.response;\n",
              "  });\n",
              "}\n",
              "\n",
              "/**\n",
              " * Generator function which is called between each async step of the upload\n",
              " * process.\n",
              " * @param {string} inputId Element ID of the input file picker element.\n",
              " * @param {string} outputId Element ID of the output display.\n",
              " * @return {!Iterable<!Object>} Iterable of next steps.\n",
              " */\n",
              "function* uploadFilesStep(inputId, outputId) {\n",
              "  const inputElement = document.getElementById(inputId);\n",
              "  inputElement.disabled = false;\n",
              "\n",
              "  const outputElement = document.getElementById(outputId);\n",
              "  outputElement.innerHTML = '';\n",
              "\n",
              "  const pickedPromise = new Promise((resolve) => {\n",
              "    inputElement.addEventListener('change', (e) => {\n",
              "      resolve(e.target.files);\n",
              "    });\n",
              "  });\n",
              "\n",
              "  const cancel = document.createElement('button');\n",
              "  inputElement.parentElement.appendChild(cancel);\n",
              "  cancel.textContent = 'Cancel upload';\n",
              "  const cancelPromise = new Promise((resolve) => {\n",
              "    cancel.onclick = () => {\n",
              "      resolve(null);\n",
              "    };\n",
              "  });\n",
              "\n",
              "  // Wait for the user to pick the files.\n",
              "  const files = yield {\n",
              "    promise: Promise.race([pickedPromise, cancelPromise]),\n",
              "    response: {\n",
              "      action: 'starting',\n",
              "    }\n",
              "  };\n",
              "\n",
              "  cancel.remove();\n",
              "\n",
              "  // Disable the input element since further picks are not allowed.\n",
              "  inputElement.disabled = true;\n",
              "\n",
              "  if (!files) {\n",
              "    return {\n",
              "      response: {\n",
              "        action: 'complete',\n",
              "      }\n",
              "    };\n",
              "  }\n",
              "\n",
              "  for (const file of files) {\n",
              "    const li = document.createElement('li');\n",
              "    li.append(span(file.name, {fontWeight: 'bold'}));\n",
              "    li.append(span(\n",
              "        `(${file.type || 'n/a'}) - ${file.size} bytes, ` +\n",
              "        `last modified: ${\n",
              "            file.lastModifiedDate ? file.lastModifiedDate.toLocaleDateString() :\n",
              "                                    'n/a'} - `));\n",
              "    const percent = span('0% done');\n",
              "    li.appendChild(percent);\n",
              "\n",
              "    outputElement.appendChild(li);\n",
              "\n",
              "    const fileDataPromise = new Promise((resolve) => {\n",
              "      const reader = new FileReader();\n",
              "      reader.onload = (e) => {\n",
              "        resolve(e.target.result);\n",
              "      };\n",
              "      reader.readAsArrayBuffer(file);\n",
              "    });\n",
              "    // Wait for the data to be ready.\n",
              "    let fileData = yield {\n",
              "      promise: fileDataPromise,\n",
              "      response: {\n",
              "        action: 'continue',\n",
              "      }\n",
              "    };\n",
              "\n",
              "    // Use a chunked sending to avoid message size limits. See b/62115660.\n",
              "    let position = 0;\n",
              "    do {\n",
              "      const length = Math.min(fileData.byteLength - position, MAX_PAYLOAD_SIZE);\n",
              "      const chunk = new Uint8Array(fileData, position, length);\n",
              "      position += length;\n",
              "\n",
              "      const base64 = btoa(String.fromCharCode.apply(null, chunk));\n",
              "      yield {\n",
              "        response: {\n",
              "          action: 'append',\n",
              "          file: file.name,\n",
              "          data: base64,\n",
              "        },\n",
              "      };\n",
              "\n",
              "      let percentDone = fileData.byteLength === 0 ?\n",
              "          100 :\n",
              "          Math.round((position / fileData.byteLength) * 100);\n",
              "      percent.textContent = `${percentDone}% done`;\n",
              "\n",
              "    } while (position < fileData.byteLength);\n",
              "  }\n",
              "\n",
              "  // All done.\n",
              "  yield {\n",
              "    response: {\n",
              "      action: 'complete',\n",
              "    }\n",
              "  };\n",
              "}\n",
              "\n",
              "scope.google = scope.google || {};\n",
              "scope.google.colab = scope.google.colab || {};\n",
              "scope.google.colab._files = {\n",
              "  _uploadFiles,\n",
              "  _uploadFilesContinue,\n",
              "};\n",
              "})(self);\n",
              "</script> "
            ]
          },
          "metadata": {}
        },
        {
          "output_type": "stream",
          "name": "stdout",
          "text": [
            "Saving transfusion.csv to transfusion.csv\n"
          ]
        }
      ],
      "source": [
        "# из библиотеки google.colab импортируем класс files\n",
        "from google.colab import files\n",
        "# создаем объект этого класса, применяем метод\n",
        "#.upload()\n",
        "uploaded = files.upload()"
      ]
    },
    {
      "cell_type": "code",
      "source": [
        "uploaded"
      ],
      "metadata": {
        "colab": {
          "base_uri": "https://localhost:8080/"
        },
        "id": "wVbyqA4LgcyN",
        "outputId": "512bc461-2e81-40c2-ebab-49d78cbb5d3a"
      },
      "execution_count": null,
      "outputs": [
        {
          "output_type": "execute_result",
          "data": {
            "text/plain": [
              "{'transfusion.csv': b'Recency (months),Frequency (times),Monetary (c.c. blood),Time (months),\"whether he/she donated blood in March 2007\"\\r\\n2 ,50,12500,98 ,1\\r\\n0 ,13,3250,28 ,1\\r\\n1 ,16,4000,35 ,1\\r\\n2 ,20,5000,45 ,1\\r\\n1 ,24,6000,77 ,0\\r\\n4 ,4,1000,4 ,0\\r\\n2 ,7,1750,14 ,1\\r\\n1 ,12,3000,35 ,0\\r\\n2 ,9,2250,22 ,1\\r\\n5 ,46,11500,98 ,1\\r\\n4 ,23,5750,58 ,0\\r\\n0 ,3,750,4 ,0\\r\\n2 ,10,2500,28 ,1\\r\\n1 ,13,3250,47 ,0\\r\\n2 ,6,1500,15 ,1\\r\\n2 ,5,1250,11 ,1\\r\\n2 ,14,3500,48 ,1\\r\\n2 ,15,3750,49 ,1\\r\\n2 ,6,1500,15 ,1\\r\\n2 ,3,750,4 ,1\\r\\n2 ,3,750,4 ,1\\r\\n4 ,11,2750,28 ,0\\r\\n2 ,6,1500,16 ,1\\r\\n2 ,6,1500,16 ,1\\r\\n9 ,9,2250,16 ,0\\r\\n4 ,14,3500,40 ,0\\r\\n4 ,6,1500,14 ,0\\r\\n4 ,12,3000,34 ,1\\r\\n4 ,5,1250,11 ,1\\r\\n4 ,8,2000,21 ,0\\r\\n1 ,14,3500,58 ,0\\r\\n4 ,10,2500,28 ,1\\r\\n4 ,10,2500,28 ,1\\r\\n4 ,9,2250,26 ,1\\r\\n2 ,16,4000,64 ,0\\r\\n2 ,8,2000,28 ,1\\r\\n2 ,12,3000,47 ,1\\r\\n4 ,6,1500,16 ,1\\r\\n2 ,14,3500,57 ,1\\r\\n4 ,7,1750,22 ,1\\r\\n2 ,13,3250,53 ,1\\r\\n2 ,5,1250,16 ,0\\r\\n2 ,5,1250,16 ,1\\r\\n2 ,5,1250,16 ,0\\r\\n4 ,20,5000,69 ,1\\r\\n4 ,9,2250,28 ,1\\r\\n2 ,9,2250,36 ,0\\r\\n2 ,2,500,2 ,0\\r\\n2 ,2,500,2 ,0\\r\\n2 ,2,500,2 ,0\\r\\n2 ,11,2750,46 ,0\\r\\n2 ,11,2750,46 ,1\\r\\n2 ,6,1500,22 ,0\\r\\n2 ,12,3000,52 ,0\\r\\n4 ,5,1250,14 ,1\\r\\n4 ,19,4750,69 ,1\\r\\n4 ,8,2000,26 ,1\\r\\n2 ,7,1750,28 ,1\\r\\n2 ,16,4000,81 ,0\\r\\n3 ,6,1500,21 ,0\\r\\n2 ,7,1750,29 ,0\\r\\n2 ,8,2000,35 ,1\\r\\n2 ,10,2500,49 ,0\\r\\n4 ,5,1250,16 ,1\\r\\n2 ,3,750,9 ,1\\r\\n3 ,16,4000,74 ,0\\r\\n2 ,4,1000,14 ,1\\r\\n0 ,2,500,4 ,0\\r\\n4 ,7,1750,25 ,0\\r\\n1 ,9,2250,51 ,0\\r\\n2 ,4,1000,16 ,0\\r\\n2 ,4,1000,16 ,0\\r\\n4 ,17,4250,71 ,1\\r\\n2 ,2,500,4 ,0\\r\\n2 ,2,500,4 ,1\\r\\n2 ,2,500,4 ,1\\r\\n2 ,4,1000,16 ,1\\r\\n2 ,2,500,4 ,0\\r\\n2 ,2,500,4 ,0\\r\\n2 ,2,500,4 ,0\\r\\n4 ,6,1500,23 ,1\\r\\n2 ,4,1000,16 ,0\\r\\n2 ,4,1000,16 ,0\\r\\n2 ,4,1000,16 ,0\\r\\n2 ,6,1500,28 ,1\\r\\n2 ,6,1500,28 ,0\\r\\n4 ,2,500,4 ,0\\r\\n4 ,2,500,4 ,0\\r\\n4 ,2,500,4 ,0\\r\\n2 ,7,1750,35 ,1\\r\\n4 ,2,500,4 ,1\\r\\n4 ,2,500,4 ,0\\r\\n4 ,2,500,4 ,0\\r\\n4 ,2,500,4 ,0\\r\\n12 ,11,2750,23 ,0\\r\\n4 ,7,1750,28 ,0\\r\\n3 ,17,4250,86 ,0\\r\\n4 ,9,2250,38 ,1\\r\\n4 ,4,1000,14 ,1\\r\\n5 ,7,1750,26 ,1\\r\\n4 ,8,2000,34 ,1\\r\\n2 ,13,3250,76 ,1\\r\\n4 ,9,2250,40 ,0\\r\\n2 ,5,1250,26 ,0\\r\\n2 ,5,1250,26 ,0\\r\\n6 ,17,4250,70 ,0\\r\\n0 ,8,2000,59 ,0\\r\\n3 ,5,1250,26 ,0\\r\\n2 ,3,750,14 ,0\\r\\n2 ,10,2500,64 ,0\\r\\n4 ,5,1250,23 ,1\\r\\n4 ,9,2250,46 ,0\\r\\n4 ,5,1250,23 ,0\\r\\n4 ,8,2000,40 ,1\\r\\n2 ,12,3000,82 ,0\\r\\n11 ,24,6000,64 ,0\\r\\n2 ,7,1750,46 ,1\\r\\n4 ,11,2750,61 ,0\\r\\n1 ,7,1750,57 ,0\\r\\n2 ,11,2750,79 ,1\\r\\n2 ,3,750,16 ,1\\r\\n4 ,5,1250,26 ,1\\r\\n2 ,6,1500,41 ,1\\r\\n2 ,5,1250,33 ,1\\r\\n2 ,4,1000,26 ,0\\r\\n2 ,5,1250,34 ,0\\r\\n4 ,8,2000,46 ,1\\r\\n2 ,4,1000,26 ,0\\r\\n4 ,8,2000,48 ,1\\r\\n2 ,2,500,10 ,1\\r\\n4 ,5,1250,28 ,0\\r\\n2 ,12,3000,95 ,0\\r\\n2 ,2,500,10 ,0\\r\\n4 ,6,1500,35 ,0\\r\\n2 ,11,2750,88 ,0\\r\\n2 ,3,750,19 ,0\\r\\n2 ,5,1250,37 ,0\\r\\n2 ,12,3000,98 ,0\\r\\n9 ,5,1250,19 ,0\\r\\n2 ,2,500,11 ,0\\r\\n2 ,9,2250,74 ,0\\r\\n5 ,14,3500,86 ,0\\r\\n4 ,3,750,16 ,0\\r\\n4 ,3,750,16 ,0\\r\\n4 ,2,500,9 ,1\\r\\n4 ,3,750,16 ,1\\r\\n6 ,3,750,14 ,0\\r\\n2 ,2,500,11 ,0\\r\\n2 ,2,500,11 ,1\\r\\n2 ,2,500,11 ,0\\r\\n2 ,7,1750,58 ,1\\r\\n4 ,6,1500,39 ,0\\r\\n4 ,11,2750,78 ,0\\r\\n2 ,1,250,2 ,1\\r\\n2 ,1,250,2 ,0\\r\\n2 ,1,250,2 ,0\\r\\n2 ,1,250,2 ,0\\r\\n2 ,1,250,2 ,0\\r\\n2 ,1,250,2 ,0\\r\\n2 ,1,250,2 ,0\\r\\n2 ,1,250,2 ,0\\r\\n2 ,1,250,2 ,0\\r\\n2 ,1,250,2 ,0\\r\\n2 ,1,250,2 ,1\\r\\n2 ,1,250,2 ,1\\r\\n2 ,1,250,2 ,1\\r\\n2 ,1,250,2 ,0\\r\\n2 ,1,250,2 ,0\\r\\n2 ,1,250,2 ,0\\r\\n2 ,1,250,2 ,0\\r\\n2 ,1,250,2 ,0\\r\\n2 ,1,250,2 ,0\\r\\n2 ,1,250,2 ,0\\r\\n2 ,1,250,2 ,0\\r\\n2 ,1,250,2 ,0\\r\\n11 ,10,2500,35 ,0\\r\\n11 ,4,1000,16 ,1\\r\\n4 ,5,1250,33 ,1\\r\\n4 ,6,1500,41 ,1\\r\\n2 ,3,750,22 ,0\\r\\n4 ,4,1000,26 ,1\\r\\n10 ,4,1000,16 ,0\\r\\n2 ,4,1000,35 ,0\\r\\n4 ,12,3000,88 ,0\\r\\n13 ,8,2000,26 ,0\\r\\n11 ,9,2250,33 ,0\\r\\n4 ,5,1250,34 ,0\\r\\n4 ,4,1000,26 ,0\\r\\n8 ,15,3750,77 ,0\\r\\n4 ,5,1250,35 ,1\\r\\n4 ,7,1750,52 ,0\\r\\n4 ,7,1750,52 ,0\\r\\n2 ,4,1000,35 ,0\\r\\n11 ,11,2750,42 ,0\\r\\n2 ,2,500,14 ,0\\r\\n2 ,5,1250,47 ,1\\r\\n9 ,8,2000,38 ,1\\r\\n4 ,6,1500,47 ,0\\r\\n11 ,7,1750,29 ,0\\r\\n9 ,9,2250,45 ,0\\r\\n4 ,6,1500,52 ,0\\r\\n4 ,7,1750,58 ,0\\r\\n6 ,2,500,11 ,1\\r\\n4 ,7,1750,58 ,0\\r\\n11 ,9,2250,38 ,0\\r\\n11 ,6,1500,26 ,0\\r\\n2 ,2,500,16 ,0\\r\\n2 ,7,1750,76 ,0\\r\\n11 ,6,1500,27 ,0\\r\\n11 ,3,750,14 ,0\\r\\n4 ,1,250,4 ,0\\r\\n4 ,1,250,4 ,0\\r\\n4 ,1,250,4 ,0\\r\\n4 ,1,250,4 ,0\\r\\n4 ,1,250,4 ,0\\r\\n4 ,1,250,4 ,1\\r\\n4 ,1,250,4 ,0\\r\\n4 ,1,250,4 ,0\\r\\n4 ,1,250,4 ,0\\r\\n4 ,1,250,4 ,0\\r\\n4 ,1,250,4 ,0\\r\\n4 ,1,250,4 ,1\\r\\n4 ,1,250,4 ,1\\r\\n4 ,1,250,4 ,0\\r\\n4 ,1,250,4 ,1\\r\\n4 ,1,250,4 ,1\\r\\n4 ,1,250,4 ,0\\r\\n4 ,3,750,24 ,0\\r\\n4 ,1,250,4 ,0\\r\\n4 ,1,250,4 ,0\\r\\n4 ,1,250,4 ,0\\r\\n4 ,1,250,4 ,1\\r\\n4 ,1,250,4 ,0\\r\\n10 ,8,2000,39 ,0\\r\\n14 ,7,1750,26 ,0\\r\\n8 ,10,2500,63 ,0\\r\\n11 ,3,750,15 ,0\\r\\n4 ,2,500,14 ,0\\r\\n2 ,4,1000,43 ,0\\r\\n8 ,9,2250,58 ,0\\r\\n8 ,8,2000,52 ,1\\r\\n11 ,22,5500,98 ,0\\r\\n4 ,3,750,25 ,1\\r\\n11 ,17,4250,79 ,1\\r\\n9 ,2,500,11 ,0\\r\\n4 ,5,1250,46 ,0\\r\\n11 ,12,3000,58 ,0\\r\\n7 ,12,3000,86 ,0\\r\\n11 ,2,500,11 ,0\\r\\n11 ,2,500,11 ,0\\r\\n11 ,2,500,11 ,0\\r\\n2 ,6,1500,75 ,0\\r\\n11 ,8,2000,41 ,1\\r\\n11 ,3,750,16 ,1\\r\\n12 ,13,3250,59 ,0\\r\\n2 ,3,750,35 ,0\\r\\n16 ,8,2000,28 ,0\\r\\n11 ,7,1750,37 ,0\\r\\n4 ,3,750,28 ,0\\r\\n12 ,12,3000,58 ,0\\r\\n4 ,4,1000,41 ,0\\r\\n11 ,14,3500,73 ,1\\r\\n2 ,2,500,23 ,0\\r\\n2 ,3,750,38 ,1\\r\\n4 ,5,1250,58 ,0\\r\\n4 ,4,1000,43 ,1\\r\\n3 ,2,500,23 ,0\\r\\n11 ,8,2000,46 ,0\\r\\n4 ,7,1750,82 ,0\\r\\n13 ,4,1000,21 ,0\\r\\n16 ,11,2750,40 ,0\\r\\n16 ,7,1750,28 ,0\\r\\n7 ,2,500,16 ,0\\r\\n4 ,5,1250,58 ,0\\r\\n4 ,5,1250,58 ,0\\r\\n4 ,4,1000,46 ,0\\r\\n14 ,13,3250,57 ,0\\r\\n4 ,3,750,34 ,0\\r\\n14 ,18,4500,78 ,0\\r\\n11 ,8,2000,48 ,0\\r\\n14 ,16,4000,70 ,0\\r\\n14 ,4,1000,22 ,1\\r\\n14 ,5,1250,26 ,0\\r\\n8 ,2,500,16 ,0\\r\\n11 ,5,1250,33 ,0\\r\\n11 ,2,500,14 ,0\\r\\n4 ,2,500,23 ,0\\r\\n9 ,2,500,16 ,1\\r\\n14 ,5,1250,28 ,1\\r\\n14 ,3,750,19 ,1\\r\\n14 ,4,1000,23 ,1\\r\\n16 ,12,3000,50 ,0\\r\\n11 ,4,1000,28 ,0\\r\\n11 ,5,1250,35 ,0\\r\\n11 ,5,1250,35 ,0\\r\\n2 ,4,1000,70 ,0\\r\\n14 ,5,1250,28 ,0\\r\\n14 ,2,500,14 ,0\\r\\n14 ,2,500,14 ,0\\r\\n14 ,2,500,14 ,0\\r\\n14 ,2,500,14 ,0\\r\\n14 ,2,500,14 ,0\\r\\n14 ,2,500,14 ,0\\r\\n2 ,3,750,52 ,0\\r\\n14 ,6,1500,34 ,0\\r\\n11 ,5,1250,37 ,1\\r\\n4 ,5,1250,74 ,0\\r\\n11 ,3,750,23 ,0\\r\\n16 ,4,1000,23 ,0\\r\\n16 ,3,750,19 ,0\\r\\n11 ,5,1250,38 ,0\\r\\n11 ,2,500,16 ,0\\r\\n12 ,9,2250,60 ,0\\r\\n9 ,1,250,9 ,0\\r\\n9 ,1,250,9 ,0\\r\\n4 ,2,500,29 ,0\\r\\n11 ,2,500,17 ,0\\r\\n14 ,4,1000,26 ,0\\r\\n11 ,9,2250,72 ,1\\r\\n11 ,5,1250,41 ,0\\r\\n15 ,16,4000,82 ,0\\r\\n9 ,5,1250,51 ,1\\r\\n11 ,4,1000,34 ,0\\r\\n14 ,8,2000,50 ,1\\r\\n16 ,7,1750,38 ,0\\r\\n14 ,2,500,16 ,0\\r\\n2 ,2,500,41 ,0\\r\\n14 ,16,4000,98 ,0\\r\\n14 ,4,1000,28 ,1\\r\\n16 ,7,1750,39 ,0\\r\\n14 ,7,1750,47 ,0\\r\\n16 ,6,1500,35 ,0\\r\\n16 ,6,1500,35 ,1\\r\\n11 ,7,1750,62 ,1\\r\\n16 ,2,500,16 ,0\\r\\n16 ,3,750,21 ,1\\r\\n11 ,3,750,28 ,0\\r\\n11 ,7,1750,64 ,0\\r\\n11 ,1,250,11 ,1\\r\\n9 ,3,750,34 ,0\\r\\n14 ,4,1000,30 ,0\\r\\n23 ,38,9500,98 ,0\\r\\n11 ,6,1500,58 ,0\\r\\n11 ,1,250,11 ,0\\r\\n11 ,1,250,11 ,0\\r\\n11 ,1,250,11 ,0\\r\\n11 ,1,250,11 ,0\\r\\n11 ,1,250,11 ,0\\r\\n11 ,1,250,11 ,0\\r\\n11 ,1,250,11 ,0\\r\\n11 ,1,250,11 ,0\\r\\n11 ,2,500,21 ,0\\r\\n11 ,5,1250,50 ,0\\r\\n11 ,2,500,21 ,0\\r\\n16 ,4,1000,28 ,0\\r\\n4 ,2,500,41 ,0\\r\\n16 ,6,1500,40 ,0\\r\\n14 ,3,750,26 ,0\\r\\n9 ,2,500,26 ,0\\r\\n21 ,16,4000,64 ,0\\r\\n14 ,6,1500,51 ,0\\r\\n11 ,2,500,24 ,0\\r\\n4 ,3,750,71 ,0\\r\\n21 ,13,3250,57 ,0\\r\\n11 ,6,1500,71 ,0\\r\\n14 ,2,500,21 ,1\\r\\n23 ,15,3750,57 ,0\\r\\n14 ,4,1000,38 ,0\\r\\n11 ,2,500,26 ,0\\r\\n16 ,5,1250,40 ,1\\r\\n4 ,2,500,51 ,1\\r\\n14 ,3,750,31 ,0\\r\\n4 ,2,500,52 ,0\\r\\n9 ,4,1000,65 ,0\\r\\n14 ,4,1000,40 ,0\\r\\n11 ,3,750,40 ,1\\r\\n14 ,5,1250,50 ,0\\r\\n14 ,1,250,14 ,0\\r\\n14 ,1,250,14 ,0\\r\\n14 ,1,250,14 ,0\\r\\n14 ,1,250,14 ,0\\r\\n14 ,1,250,14 ,0\\r\\n14 ,1,250,14 ,0\\r\\n14 ,1,250,14 ,0\\r\\n14 ,1,250,14 ,0\\r\\n14 ,7,1750,72 ,0\\r\\n14 ,1,250,14 ,0\\r\\n14 ,1,250,14 ,0\\r\\n9 ,3,750,52 ,0\\r\\n14 ,7,1750,73 ,0\\r\\n11 ,4,1000,58 ,0\\r\\n11 ,4,1000,59 ,0\\r\\n4 ,2,500,59 ,0\\r\\n11 ,4,1000,61 ,0\\r\\n16 ,4,1000,40 ,0\\r\\n16 ,10,2500,89 ,0\\r\\n21 ,2,500,21 ,1\\r\\n21 ,3,750,26 ,0\\r\\n16 ,8,2000,76 ,0\\r\\n21 ,3,750,26 ,1\\r\\n18 ,2,500,23 ,0\\r\\n23 ,5,1250,33 ,0\\r\\n23 ,8,2000,46 ,0\\r\\n16 ,3,750,34 ,0\\r\\n14 ,5,1250,64 ,0\\r\\n14 ,3,750,41 ,0\\r\\n16 ,1,250,16 ,0\\r\\n16 ,1,250,16 ,0\\r\\n16 ,1,250,16 ,0\\r\\n16 ,1,250,16 ,0\\r\\n16 ,1,250,16 ,0\\r\\n16 ,1,250,16 ,0\\r\\n16 ,1,250,16 ,0\\r\\n16 ,4,1000,45 ,0\\r\\n16 ,1,250,16 ,0\\r\\n16 ,1,250,16 ,0\\r\\n16 ,1,250,16 ,0\\r\\n16 ,1,250,16 ,0\\r\\n16 ,1,250,16 ,0\\r\\n16 ,2,500,26 ,0\\r\\n21 ,2,500,23 ,0\\r\\n16 ,2,500,27 ,0\\r\\n21 ,2,500,23 ,0\\r\\n21 ,2,500,23 ,0\\r\\n14 ,4,1000,57 ,0\\r\\n16 ,5,1250,60 ,0\\r\\n23 ,2,500,23 ,0\\r\\n14 ,5,1250,74 ,0\\r\\n23 ,3,750,28 ,0\\r\\n16 ,3,750,40 ,0\\r\\n9 ,2,500,52 ,0\\r\\n9 ,2,500,52 ,0\\r\\n16 ,7,1750,87 ,1\\r\\n14 ,4,1000,64 ,0\\r\\n14 ,2,500,35 ,0\\r\\n16 ,7,1750,93 ,0\\r\\n21 ,2,500,25 ,0\\r\\n14 ,3,750,52 ,0\\r\\n23 ,14,3500,93 ,0\\r\\n18 ,8,2000,95 ,0\\r\\n16 ,3,750,46 ,0\\r\\n11 ,3,750,76 ,0\\r\\n11 ,2,500,52 ,0\\r\\n11 ,3,750,76 ,0\\r\\n23 ,12,3000,86 ,0\\r\\n21 ,3,750,35 ,0\\r\\n23 ,2,500,26 ,0\\r\\n23 ,2,500,26 ,0\\r\\n23 ,8,2000,64 ,0\\r\\n16 ,3,750,50 ,0\\r\\n23 ,3,750,33 ,0\\r\\n21 ,3,750,38 ,0\\r\\n23 ,2,500,28 ,0\\r\\n21 ,1,250,21 ,0\\r\\n21 ,1,250,21 ,0\\r\\n21 ,1,250,21 ,0\\r\\n21 ,1,250,21 ,0\\r\\n21 ,1,250,21 ,0\\r\\n21 ,1,250,21 ,0\\r\\n21 ,1,250,21 ,0\\r\\n21 ,1,250,21 ,0\\r\\n21 ,1,250,21 ,0\\r\\n21 ,1,250,21 ,1\\r\\n21 ,1,250,21 ,0\\r\\n21 ,1,250,21 ,0\\r\\n21 ,5,1250,60 ,0\\r\\n23 ,4,1000,45 ,0\\r\\n21 ,4,1000,52 ,0\\r\\n22 ,1,250,22 ,1\\r\\n11 ,2,500,70 ,0\\r\\n23 ,5,1250,58 ,0\\r\\n23 ,3,750,40 ,0\\r\\n23 ,3,750,41 ,0\\r\\n14 ,3,750,83 ,0\\r\\n21 ,2,500,35 ,0\\r\\n26 ,5,1250,49 ,1\\r\\n23 ,6,1500,70 ,0\\r\\n23 ,1,250,23 ,0\\r\\n23 ,1,250,23 ,0\\r\\n23 ,1,250,23 ,0\\r\\n23 ,1,250,23 ,0\\r\\n23 ,1,250,23 ,0\\r\\n23 ,1,250,23 ,0\\r\\n23 ,1,250,23 ,0\\r\\n23 ,1,250,23 ,0\\r\\n23 ,4,1000,53 ,0\\r\\n21 ,6,1500,86 ,0\\r\\n23 ,3,750,48 ,0\\r\\n21 ,2,500,41 ,0\\r\\n21 ,3,750,64 ,0\\r\\n16 ,2,500,70 ,0\\r\\n21 ,3,750,70 ,0\\r\\n23 ,4,1000,87 ,0\\r\\n23 ,3,750,89 ,0\\r\\n23 ,2,500,87 ,0\\r\\n35 ,3,750,64 ,0\\r\\n38 ,1,250,38 ,0\\r\\n38 ,1,250,38 ,0\\r\\n40 ,1,250,40 ,0\\r\\n74 ,1,250,74 ,0\\r\\n2 ,43,10750,86 ,1\\r\\n6 ,22,5500,28 ,1\\r\\n2 ,34,8500,77 ,1\\r\\n2 ,44,11000,98 ,0\\r\\n0 ,26,6500,76 ,1\\r\\n2 ,41,10250,98 ,1\\r\\n3 ,21,5250,42 ,1\\r\\n2 ,11,2750,23 ,0\\r\\n2 ,21,5250,52 ,1\\r\\n2 ,13,3250,32 ,1\\r\\n4 ,4,1000,4 ,1\\r\\n2 ,11,2750,26 ,0\\r\\n2 ,11,2750,28 ,0\\r\\n3 ,14,3500,35 ,0\\r\\n4 ,16,4000,38 ,1\\r\\n4 ,6,1500,14 ,0\\r\\n3 ,5,1250,12 ,1\\r\\n4 ,33,8250,98 ,1\\r\\n3 ,10,2500,33 ,1\\r\\n4 ,10,2500,28 ,1\\r\\n2 ,11,2750,40 ,1\\r\\n2 ,11,2750,41 ,1\\r\\n4 ,13,3250,39 ,1\\r\\n1 ,10,2500,43 ,1\\r\\n4 ,9,2250,28 ,0\\r\\n2 ,4,1000,11 ,0\\r\\n2 ,5,1250,16 ,1\\r\\n2 ,15,3750,64 ,0\\r\\n5 ,24,6000,79 ,0\\r\\n2 ,6,1500,22 ,1\\r\\n4 ,5,1250,16 ,1\\r\\n2 ,4,1000,14 ,1\\r\\n4 ,8,2000,28 ,0\\r\\n2 ,4,1000,14 ,0\\r\\n2 ,6,1500,26 ,0\\r\\n4 ,5,1250,16 ,1\\r\\n2 ,7,1750,32 ,1\\r\\n2 ,6,1500,26 ,1\\r\\n2 ,8,2000,38 ,1\\r\\n2 ,2,500,4 ,1\\r\\n2 ,6,1500,28 ,1\\r\\n2 ,10,2500,52 ,0\\r\\n4 ,16,4000,70 ,1\\r\\n4 ,2,500,4 ,1\\r\\n1 ,14,3500,95 ,0\\r\\n4 ,2,500,4 ,1\\r\\n7 ,14,3500,48 ,0\\r\\n2 ,3,750,11 ,0\\r\\n2 ,12,3000,70 ,1\\r\\n4 ,7,1750,32 ,1\\r\\n4 ,4,1000,16 ,0\\r\\n2 ,6,1500,35 ,1\\r\\n4 ,6,1500,28 ,1\\r\\n2 ,3,750,14 ,0\\r\\n2 ,4,1000,23 ,0\\r\\n4 ,4,1000,18 ,0\\r\\n5 ,6,1500,28 ,0\\r\\n4 ,6,1500,30 ,0\\r\\n14 ,5,1250,14 ,0\\r\\n3 ,8,2000,50 ,0\\r\\n4 ,11,2750,64 ,1\\r\\n4 ,9,2250,52 ,0\\r\\n4 ,16,4000,98 ,1\\r\\n7 ,10,2500,47 ,0\\r\\n4 ,14,3500,86 ,0\\r\\n2 ,9,2250,75 ,0\\r\\n4 ,6,1500,35 ,0\\r\\n4 ,9,2250,55 ,0\\r\\n4 ,6,1500,35 ,1\\r\\n2 ,6,1500,45 ,0\\r\\n2 ,6,1500,47 ,0\\r\\n4 ,2,500,9 ,0\\r\\n2 ,2,500,11 ,1\\r\\n2 ,2,500,11 ,0\\r\\n2 ,2,500,11 ,1\\r\\n4 ,6,1500,38 ,1\\r\\n3 ,4,1000,29 ,1\\r\\n9 ,9,2250,38 ,0\\r\\n11 ,5,1250,18 ,0\\r\\n2 ,3,750,21 ,0\\r\\n2 ,1,250,2 ,0\\r\\n2 ,1,250,2 ,1\\r\\n2 ,1,250,2 ,0\\r\\n2 ,1,250,2 ,0\\r\\n2 ,1,250,2 ,0\\r\\n2 ,1,250,2 ,0\\r\\n2 ,1,250,2 ,1\\r\\n2 ,1,250,2 ,0\\r\\n2 ,1,250,2 ,0\\r\\n2 ,1,250,2 ,0\\r\\n2 ,1,250,2 ,0\\r\\n11 ,11,2750,38 ,0\\r\\n2 ,3,750,22 ,0\\r\\n9 ,11,2750,49 ,1\\r\\n5 ,11,2750,75 ,0\\r\\n3 ,5,1250,38 ,0\\r\\n3 ,1,250,3 ,1\\r\\n4 ,6,1500,43 ,0\\r\\n2 ,3,750,24 ,0\\r\\n12 ,11,2750,39 ,0\\r\\n2 ,2,500,14 ,0\\r\\n4 ,6,1500,46 ,0\\r\\n9 ,3,750,14 ,0\\r\\n14 ,8,2000,26 ,0\\r\\n4 ,2,500,13 ,0\\r\\n4 ,11,2750,95 ,0\\r\\n2 ,7,1750,77 ,0\\r\\n2 ,7,1750,77 ,0\\r\\n4 ,1,250,4 ,0\\r\\n4 ,1,250,4 ,0\\r\\n4 ,1,250,4 ,0\\r\\n4 ,1,250,4 ,0\\r\\n4 ,1,250,4 ,1\\r\\n4 ,1,250,4 ,0\\r\\n4 ,1,250,4 ,0\\r\\n4 ,1,250,4 ,0\\r\\n4 ,1,250,4 ,0\\r\\n4 ,1,250,4 ,0\\r\\n4 ,1,250,4 ,1\\r\\n4 ,1,250,4 ,0\\r\\n4 ,7,1750,62 ,0\\r\\n4 ,1,250,4 ,0\\r\\n4 ,4,1000,34 ,1\\r\\n11 ,6,1500,28 ,0\\r\\n13 ,3,750,14 ,1\\r\\n7 ,5,1250,35 ,0\\r\\n9 ,9,2250,54 ,0\\r\\n11 ,2,500,11 ,0\\r\\n2 ,5,1250,63 ,0\\r\\n7 ,11,2750,89 ,0\\r\\n8 ,9,2250,64 ,0\\r\\n2 ,2,500,22 ,0\\r\\n6 ,3,750,26 ,0\\r\\n12 ,15,3750,71 ,0\\r\\n13 ,3,750,16 ,0\\r\\n11 ,16,4000,89 ,0\\r\\n4 ,5,1250,58 ,0\\r\\n14 ,7,1750,35 ,0\\r\\n11 ,4,1000,27 ,0\\r\\n7 ,9,2250,89 ,1\\r\\n11 ,8,2000,52 ,1\\r\\n7 ,5,1250,52 ,0\\r\\n11 ,6,1500,41 ,0\\r\\n10 ,5,1250,38 ,0\\r\\n14 ,2,500,14 ,1\\r\\n14 ,2,500,14 ,0\\r\\n14 ,2,500,14 ,0\\r\\n2 ,2,500,33 ,0\\r\\n11 ,3,750,23 ,0\\r\\n14 ,8,2000,46 ,0\\r\\n9 ,1,250,9 ,0\\r\\n16 ,5,1250,27 ,0\\r\\n14 ,4,1000,26 ,0\\r\\n4 ,2,500,30 ,0\\r\\n14 ,3,750,21 ,0\\r\\n16 ,16,4000,77 ,0\\r\\n4 ,2,500,31 ,0\\r\\n14 ,8,2000,50 ,0\\r\\n11 ,3,750,26 ,0\\r\\n14 ,7,1750,45 ,0\\r\\n15 ,5,1250,33 ,0\\r\\n16 ,2,500,16 ,0\\r\\n16 ,3,750,21 ,0\\r\\n11 ,8,2000,72 ,0\\r\\n11 ,1,250,11 ,0\\r\\n11 ,1,250,11 ,0\\r\\n11 ,1,250,11 ,0\\r\\n11 ,1,250,11 ,1\\r\\n11 ,1,250,11 ,0\\r\\n2 ,3,750,75 ,1\\r\\n2 ,3,750,77 ,0\\r\\n16 ,4,1000,28 ,0\\r\\n16 ,15,3750,87 ,0\\r\\n16 ,14,3500,83 ,0\\r\\n16 ,10,2500,62 ,0\\r\\n16 ,3,750,23 ,0\\r\\n14 ,3,750,26 ,0\\r\\n23 ,19,4750,62 ,0\\r\\n11 ,7,1750,75 ,0\\r\\n14 ,3,750,28 ,0\\r\\n20 ,14,3500,69 ,1\\r\\n4 ,2,500,46 ,0\\r\\n11 ,2,500,25 ,0\\r\\n11 ,3,750,37 ,0\\r\\n16 ,4,1000,33 ,0\\r\\n21 ,7,1750,38 ,0\\r\\n13 ,7,1750,76 ,0\\r\\n16 ,6,1500,50 ,0\\r\\n14 ,3,750,33 ,0\\r\\n14 ,1,250,14 ,0\\r\\n14 ,1,250,14 ,0\\r\\n14 ,1,250,14 ,0\\r\\n14 ,1,250,14 ,0\\r\\n14 ,1,250,14 ,0\\r\\n14 ,1,250,14 ,0\\r\\n17 ,7,1750,58 ,1\\r\\n14 ,3,750,35 ,0\\r\\n14 ,3,750,35 ,0\\r\\n16 ,7,1750,64 ,0\\r\\n21 ,2,500,21 ,0\\r\\n16 ,3,750,35 ,0\\r\\n16 ,1,250,16 ,0\\r\\n16 ,1,250,16 ,0\\r\\n16 ,1,250,16 ,0\\r\\n16 ,1,250,16 ,0\\r\\n16 ,1,250,16 ,0\\r\\n14 ,2,500,29 ,0\\r\\n11 ,4,1000,74 ,0\\r\\n11 ,2,500,38 ,1\\r\\n21 ,6,1500,48 ,0\\r\\n23 ,2,500,23 ,0\\r\\n23 ,6,1500,45 ,0\\r\\n14 ,2,500,35 ,1\\r\\n16 ,6,1500,81 ,0\\r\\n16 ,4,1000,58 ,0\\r\\n16 ,5,1250,71 ,0\\r\\n21 ,2,500,26 ,0\\r\\n21 ,3,750,35 ,0\\r\\n21 ,3,750,35 ,0\\r\\n23 ,8,2000,69 ,0\\r\\n21 ,3,750,38 ,0\\r\\n23 ,3,750,35 ,0\\r\\n21 ,3,750,40 ,0\\r\\n23 ,2,500,28 ,0\\r\\n21 ,1,250,21 ,0\\r\\n21 ,1,250,21 ,0\\r\\n25 ,6,1500,50 ,0\\r\\n21 ,1,250,21 ,0\\r\\n21 ,1,250,21 ,0\\r\\n23 ,3,750,39 ,0\\r\\n21 ,2,500,33 ,0\\r\\n14 ,3,750,79 ,0\\r\\n23 ,1,250,23 ,1\\r\\n23 ,1,250,23 ,0\\r\\n23 ,1,250,23 ,0\\r\\n23 ,1,250,23 ,0\\r\\n23 ,1,250,23 ,0\\r\\n23 ,1,250,23 ,0\\r\\n23 ,1,250,23 ,0\\r\\n23 ,4,1000,52 ,0\\r\\n23 ,1,250,23 ,0\\r\\n23 ,7,1750,88 ,0\\r\\n16 ,3,750,86 ,0\\r\\n23 ,2,500,38 ,0\\r\\n21 ,2,500,52 ,0\\r\\n23 ,3,750,62 ,0\\r\\n39 ,1,250,39 ,0\\r\\n72 ,1,250,72 ,0'}"
            ]
          },
          "metadata": {},
          "execution_count": 41
        }
      ]
    },
    {
      "cell_type": "code",
      "source": [
        "# импортируем модуль os\n",
        "import os\n",
        "\n",
        "# выводим пути к папкам (dirpath) и наименования файлов (filenames) и после этого\n",
        "for dirpath, _, filenames in os.walk('/content/'):\n",
        "\n",
        "# во вложенном цикле проходимся по названиям файлов\n",
        " for filename in filenames:\n",
        "\n",
        "# и соединяем путь до папок и входящие в эти папки файлы\n",
        "# с помощью метода path.join()\n",
        "  print(os.path.join(dirpath, filename))"
      ],
      "metadata": {
        "colab": {
          "base_uri": "https://localhost:8080/"
        },
        "id": "Mf9ajQgkhJCO",
        "outputId": "d8ebd97b-bd25-49d7-d191-f1b818206e2b"
      },
      "execution_count": null,
      "outputs": [
        {
          "output_type": "stream",
          "name": "stdout",
          "text": [
            "/content/transfusion.csv\n",
            "/content/.config/.last_update_check.json\n",
            "/content/.config/.last_survey_prompt.yaml\n",
            "/content/.config/config_sentinel\n",
            "/content/.config/gce\n",
            "/content/.config/.last_opt_in_prompt.yaml\n",
            "/content/.config/active_config\n",
            "/content/.config/logs/2022.11.17/14.31.33.306783.log\n",
            "/content/.config/logs/2022.11.17/14.30.36.800495.log\n",
            "/content/.config/logs/2022.11.17/14.31.24.464472.log\n",
            "/content/.config/logs/2022.11.17/14.31.56.476878.log\n",
            "/content/.config/logs/2022.11.17/14.31.02.573135.log\n",
            "/content/.config/logs/2022.11.17/14.31.55.730438.log\n",
            "/content/.config/configurations/config_default\n",
            "/content/sample_data/README.md\n",
            "/content/sample_data/anscombe.json\n",
            "/content/sample_data/california_housing_test.csv\n",
            "/content/sample_data/mnist_train_small.csv\n",
            "/content/sample_data/california_housing_train.csv\n",
            "/content/sample_data/mnist_test.csv\n"
          ]
        }
      ]
    },
    {
      "cell_type": "code",
      "source": [
        "!ls"
      ],
      "metadata": {
        "colab": {
          "base_uri": "https://localhost:8080/"
        },
        "id": "--ifdDKAh9ei",
        "outputId": "11387324-99ab-4291-b28f-7771a1bbab83"
      },
      "execution_count": null,
      "outputs": [
        {
          "output_type": "stream",
          "name": "stdout",
          "text": [
            "sample_data  transfusion.csv\n"
          ]
        }
      ]
    },
    {
      "cell_type": "code",
      "source": [
        "!ls /content/sample_data/"
      ],
      "metadata": {
        "colab": {
          "base_uri": "https://localhost:8080/"
        },
        "id": "LU_JNBToiFTj",
        "outputId": "df399817-f08f-42a2-8633-e565c0a9e383"
      },
      "execution_count": null,
      "outputs": [
        {
          "output_type": "stream",
          "name": "stdout",
          "text": [
            "anscombe.json\t\t      mnist_test.csv\n",
            "california_housing_test.csv   mnist_train_small.csv\n",
            "california_housing_train.csv  README.md\n"
          ]
        }
      ]
    },
    {
      "cell_type": "code",
      "source": [
        "# посмотрим на тип значений словаря uploaded\n",
        "type(uploaded['transfusion.csv'])"
      ],
      "metadata": {
        "colab": {
          "base_uri": "https://localhost:8080/"
        },
        "id": "Jxt6HLgaiVwY",
        "outputId": "176c4e8c-12d3-47e6-f53e-8a9e51971877"
      },
      "execution_count": null,
      "outputs": [
        {
          "output_type": "execute_result",
          "data": {
            "text/plain": [
              "bytes"
            ]
          },
          "metadata": {},
          "execution_count": 45
        }
      ]
    },
    {
      "cell_type": "code",
      "source": [
        "# обратимся к ключу словаря uploaded и применим метод .decode()\n",
        "uploaded_str = uploaded['transfusion.csv'].decode()\n",
        "\n",
        "# на выходе получаем обычную строку\n",
        "print(type(uploaded_str))"
      ],
      "metadata": {
        "colab": {
          "base_uri": "https://localhost:8080/"
        },
        "id": "BBhefq88jfgZ",
        "outputId": "7f4d00f7-af1c-4ffe-9eb4-1249ebfe46bd"
      },
      "execution_count": null,
      "outputs": [
        {
          "output_type": "stream",
          "name": "stdout",
          "text": [
            "<class 'str'>\n"
          ]
        }
      ]
    },
    {
      "cell_type": "code",
      "source": [
        "print(uploaded_str[:35])"
      ],
      "metadata": {
        "colab": {
          "base_uri": "https://localhost:8080/"
        },
        "id": "gRQde8bUj76A",
        "outputId": "2e00a9ba-15cb-4135-b2ac-39e1350d1f5d"
      },
      "execution_count": null,
      "outputs": [
        {
          "output_type": "stream",
          "name": "stdout",
          "text": [
            "Recency (months),Frequency (times),\n"
          ]
        }
      ]
    },
    {
      "cell_type": "code",
      "source": [
        "uploaded_list = uploaded_str.split('\\r\\n')\n",
        "type(uploaded_list)"
      ],
      "metadata": {
        "colab": {
          "base_uri": "https://localhost:8080/"
        },
        "id": "D0knKsztkKUS",
        "outputId": "0e77e64c-f30e-4c8e-d209-9f3ccc7a09a4"
      },
      "execution_count": null,
      "outputs": [
        {
          "output_type": "execute_result",
          "data": {
            "text/plain": [
              "list"
            ]
          },
          "metadata": {},
          "execution_count": 48
        }
      ]
    },
    {
      "cell_type": "code",
      "source": [
        "# не забудем создать индекс с помощью функции enumerate()\n",
        "for i, line in enumerate(uploaded_list):\n",
        "\n",
        "# начнем выводить записи\n",
        "  print(line)\n",
        "\n",
        "# когда дойдем до четвертой строки\n",
        "  if i == 3:\n",
        "\n",
        "# прервемся\n",
        "    break"
      ],
      "metadata": {
        "colab": {
          "base_uri": "https://localhost:8080/"
        },
        "id": "iCJB-BeOkoFF",
        "outputId": "7e7748f4-3832-4f34-b69e-d6fa87133aa4"
      },
      "execution_count": null,
      "outputs": [
        {
          "output_type": "stream",
          "name": "stdout",
          "text": [
            "Recency (months),Frequency (times),Monetary (c.c. blood),Time (months),\"whether he/she donated blood in March 2007\"\n",
            "2 ,50,12500,98 ,1\n",
            "0 ,13,3250,28 ,1\n",
            "1 ,16,4000,35 ,1\n"
          ]
        }
      ]
    },
    {
      "cell_type": "code",
      "source": [
        "# передадим функции open() адрес файла\n",
        "# параметр 'r' означает, что мы хотим прочитать (read) файл\n",
        "f1 = open('/content/transfusion.csv', 'r')"
      ],
      "metadata": {
        "id": "uhRy1_5Tk7sP"
      },
      "execution_count": null,
      "outputs": []
    },
    {
      "cell_type": "code",
      "source": [
        "# метод .read() помещает весь файл в одну строку\n",
        "# выведем первые 142 символа (если параметр не указывать, выведется все содержимое)\n",
        "print(f1.read(142))\n",
        "\n",
        "# в конце файл необходимо закрыть\n",
        "f1.close()"
      ],
      "metadata": {
        "colab": {
          "base_uri": "https://localhost:8080/"
        },
        "id": "15jJhfyBlQGf",
        "outputId": "7ba57dcd-d6ce-443d-9526-5d464a234d3d"
      },
      "execution_count": null,
      "outputs": [
        {
          "output_type": "stream",
          "name": "stdout",
          "text": [
            "Recency (months),Frequency (times),Monetary (c.c. blood),Time (months),\"whether he/she donated blood in March 2007\"\n",
            "2 ,50,12500,98 ,1\n",
            "0 ,13,32\n"
          ]
        }
      ]
    },
    {
      "cell_type": "code",
      "source": [
        "# снова откроем файл\n",
        "f2 = open('/content/transfusion.csv', 'r')\n",
        "\n",
        "# пройдемся по нашему объекту в цикле for и параллельно создадим индекс\n",
        "for i, line in enumerate(f2):\n",
        "\n",
        "# выведем строки без служебных символов по краям\n",
        "  print(line.strip())\n",
        "  # дойдя до четвертой строки, прервемся\n",
        "  if i == 3:\n",
        "    break\n",
        "\n",
        "# не забудем закрыть файл\n",
        "f2.close()"
      ],
      "metadata": {
        "colab": {
          "base_uri": "https://localhost:8080/"
        },
        "id": "5e4t-Hdulbmj",
        "outputId": "dd3b518f-753c-443b-cf76-2f0b397fea2f"
      },
      "execution_count": null,
      "outputs": [
        {
          "output_type": "stream",
          "name": "stdout",
          "text": [
            "Recency (months),Frequency (times),Monetary (c.c. blood),Time (months),\"whether he/she donated blood in March 2007\"\n",
            "2 ,50,12500,98 ,1\n",
            "0 ,13,3250,28 ,1\n",
            "1 ,16,4000,35 ,1\n"
          ]
        }
      ]
    },
    {
      "cell_type": "code",
      "source": [
        "# скажем Питону: \"открой файл и назови его f3\"\n",
        "with open('/content/transfusion.csv', 'r') as f3:\n",
        "\n",
        "# \"пройдись по строкам без служебных символов\"\n",
        "  for i, line in enumerate(f3):\n",
        "    print(line.strip())\n",
        "\n",
        "# и \"прервись на четвертой строке\"\n",
        "    if i == 3:\n",
        "      break"
      ],
      "metadata": {
        "id": "l44wtrwll8l9",
        "colab": {
          "base_uri": "https://localhost:8080/"
        },
        "outputId": "bf9607fa-d902-461d-c3f6-958c156aeccd"
      },
      "execution_count": null,
      "outputs": [
        {
          "output_type": "stream",
          "name": "stdout",
          "text": [
            "Recency (months),Frequency (times),Monetary (c.c. blood),Time (months),\"whether he/she donated blood in March 2007\"\n",
            "2 ,50,12500,98 ,1\n",
            "0 ,13,3250,28 ,1\n",
            "1 ,16,4000,35 ,1\n"
          ]
        }
      ]
    },
    {
      "cell_type": "code",
      "source": [
        "# импортируем библиотеку\n",
        "import pandas as pd\n",
        "\n",
        "# применим функцию read_csv() и посмотрим на первые три записи файла train.csv\n",
        "transfusion = pd.read_csv('/content/transfusion.csv')\n",
        "transfusion.head(3)"
      ],
      "metadata": {
        "colab": {
          "base_uri": "https://localhost:8080/",
          "height": 205
        },
        "id": "h4MLJpYCmPol",
        "outputId": "1ea20d34-b1dd-4973-cf57-b90f82493691"
      },
      "execution_count": null,
      "outputs": [
        {
          "output_type": "execute_result",
          "data": {
            "text/plain": [
              "   Recency (months)  Frequency (times)  Monetary (c.c. blood)  Time (months)  \\\n",
              "0                 2                 50                  12500             98   \n",
              "1                 0                 13                   3250             28   \n",
              "2                 1                 16                   4000             35   \n",
              "\n",
              "   whether he/she donated blood in March 2007  \n",
              "0                                           1  \n",
              "1                                           1  \n",
              "2                                           1  "
            ],
            "text/html": [
              "\n",
              "  <div id=\"df-04eacbe4-e7c7-47e1-aee0-ddc2c328e9f2\">\n",
              "    <div class=\"colab-df-container\">\n",
              "      <div>\n",
              "<style scoped>\n",
              "    .dataframe tbody tr th:only-of-type {\n",
              "        vertical-align: middle;\n",
              "    }\n",
              "\n",
              "    .dataframe tbody tr th {\n",
              "        vertical-align: top;\n",
              "    }\n",
              "\n",
              "    .dataframe thead th {\n",
              "        text-align: right;\n",
              "    }\n",
              "</style>\n",
              "<table border=\"1\" class=\"dataframe\">\n",
              "  <thead>\n",
              "    <tr style=\"text-align: right;\">\n",
              "      <th></th>\n",
              "      <th>Recency (months)</th>\n",
              "      <th>Frequency (times)</th>\n",
              "      <th>Monetary (c.c. blood)</th>\n",
              "      <th>Time (months)</th>\n",
              "      <th>whether he/she donated blood in March 2007</th>\n",
              "    </tr>\n",
              "  </thead>\n",
              "  <tbody>\n",
              "    <tr>\n",
              "      <th>0</th>\n",
              "      <td>2</td>\n",
              "      <td>50</td>\n",
              "      <td>12500</td>\n",
              "      <td>98</td>\n",
              "      <td>1</td>\n",
              "    </tr>\n",
              "    <tr>\n",
              "      <th>1</th>\n",
              "      <td>0</td>\n",
              "      <td>13</td>\n",
              "      <td>3250</td>\n",
              "      <td>28</td>\n",
              "      <td>1</td>\n",
              "    </tr>\n",
              "    <tr>\n",
              "      <th>2</th>\n",
              "      <td>1</td>\n",
              "      <td>16</td>\n",
              "      <td>4000</td>\n",
              "      <td>35</td>\n",
              "      <td>1</td>\n",
              "    </tr>\n",
              "  </tbody>\n",
              "</table>\n",
              "</div>\n",
              "      <button class=\"colab-df-convert\" onclick=\"convertToInteractive('df-04eacbe4-e7c7-47e1-aee0-ddc2c328e9f2')\"\n",
              "              title=\"Convert this dataframe to an interactive table.\"\n",
              "              style=\"display:none;\">\n",
              "        \n",
              "  <svg xmlns=\"http://www.w3.org/2000/svg\" height=\"24px\"viewBox=\"0 0 24 24\"\n",
              "       width=\"24px\">\n",
              "    <path d=\"M0 0h24v24H0V0z\" fill=\"none\"/>\n",
              "    <path d=\"M18.56 5.44l.94 2.06.94-2.06 2.06-.94-2.06-.94-.94-2.06-.94 2.06-2.06.94zm-11 1L8.5 8.5l.94-2.06 2.06-.94-2.06-.94L8.5 2.5l-.94 2.06-2.06.94zm10 10l.94 2.06.94-2.06 2.06-.94-2.06-.94-.94-2.06-.94 2.06-2.06.94z\"/><path d=\"M17.41 7.96l-1.37-1.37c-.4-.4-.92-.59-1.43-.59-.52 0-1.04.2-1.43.59L10.3 9.45l-7.72 7.72c-.78.78-.78 2.05 0 2.83L4 21.41c.39.39.9.59 1.41.59.51 0 1.02-.2 1.41-.59l7.78-7.78 2.81-2.81c.8-.78.8-2.07 0-2.86zM5.41 20L4 18.59l7.72-7.72 1.47 1.35L5.41 20z\"/>\n",
              "  </svg>\n",
              "      </button>\n",
              "      \n",
              "  <style>\n",
              "    .colab-df-container {\n",
              "      display:flex;\n",
              "      flex-wrap:wrap;\n",
              "      gap: 12px;\n",
              "    }\n",
              "\n",
              "    .colab-df-convert {\n",
              "      background-color: #E8F0FE;\n",
              "      border: none;\n",
              "      border-radius: 50%;\n",
              "      cursor: pointer;\n",
              "      display: none;\n",
              "      fill: #1967D2;\n",
              "      height: 32px;\n",
              "      padding: 0 0 0 0;\n",
              "      width: 32px;\n",
              "    }\n",
              "\n",
              "    .colab-df-convert:hover {\n",
              "      background-color: #E2EBFA;\n",
              "      box-shadow: 0px 1px 2px rgba(60, 64, 67, 0.3), 0px 1px 3px 1px rgba(60, 64, 67, 0.15);\n",
              "      fill: #174EA6;\n",
              "    }\n",
              "\n",
              "    [theme=dark] .colab-df-convert {\n",
              "      background-color: #3B4455;\n",
              "      fill: #D2E3FC;\n",
              "    }\n",
              "\n",
              "    [theme=dark] .colab-df-convert:hover {\n",
              "      background-color: #434B5C;\n",
              "      box-shadow: 0px 1px 3px 1px rgba(0, 0, 0, 0.15);\n",
              "      filter: drop-shadow(0px 1px 2px rgba(0, 0, 0, 0.3));\n",
              "      fill: #FFFFFF;\n",
              "    }\n",
              "  </style>\n",
              "\n",
              "      <script>\n",
              "        const buttonEl =\n",
              "          document.querySelector('#df-04eacbe4-e7c7-47e1-aee0-ddc2c328e9f2 button.colab-df-convert');\n",
              "        buttonEl.style.display =\n",
              "          google.colab.kernel.accessAllowed ? 'block' : 'none';\n",
              "\n",
              "        async function convertToInteractive(key) {\n",
              "          const element = document.querySelector('#df-04eacbe4-e7c7-47e1-aee0-ddc2c328e9f2');\n",
              "          const dataTable =\n",
              "            await google.colab.kernel.invokeFunction('convertToInteractive',\n",
              "                                                     [key], {});\n",
              "          if (!dataTable) return;\n",
              "\n",
              "          const docLinkHtml = 'Like what you see? Visit the ' +\n",
              "            '<a target=\"_blank\" href=https://colab.research.google.com/notebooks/data_table.ipynb>data table notebook</a>'\n",
              "            + ' to learn more about interactive tables.';\n",
              "          element.innerHTML = '';\n",
              "          dataTable['output_type'] = 'display_data';\n",
              "          await google.colab.output.renderOutput(dataTable, element);\n",
              "          const docLink = document.createElement('div');\n",
              "          docLink.innerHTML = docLinkHtml;\n",
              "          element.appendChild(docLink);\n",
              "        }\n",
              "      </script>\n",
              "    </div>\n",
              "  </div>\n",
              "  "
            ]
          },
          "metadata": {},
          "execution_count": 68
        }
      ]
    },
    {
      "cell_type": "code",
      "source": [
        "transfusion.info()"
      ],
      "metadata": {
        "colab": {
          "base_uri": "https://localhost:8080/"
        },
        "id": "0jNsQZg9mrlB",
        "outputId": "a0c19e09-2f70-4c88-bf8c-8786760e3791"
      },
      "execution_count": null,
      "outputs": [
        {
          "output_type": "stream",
          "name": "stdout",
          "text": [
            "<class 'pandas.core.frame.DataFrame'>\n",
            "RangeIndex: 748 entries, 0 to 747\n",
            "Data columns (total 5 columns):\n",
            " #   Column                                      Non-Null Count  Dtype\n",
            "---  ------                                      --------------  -----\n",
            " 0   Recency (months)                            748 non-null    int64\n",
            " 1   Frequency (times)                           748 non-null    int64\n",
            " 2   Monetary (c.c. blood)                       748 non-null    int64\n",
            " 3   Time (months)                               748 non-null    int64\n",
            " 4   whether he/she donated blood in March 2007  748 non-null    int64\n",
            "dtypes: int64(5)\n",
            "memory usage: 29.3 KB\n"
          ]
        }
      ]
    },
    {
      "cell_type": "code",
      "source": [
        "# для построения графиков воспользуемся новой для нас библиотекой seaborn\n",
        "import seaborn as sns"
      ],
      "metadata": {
        "id": "IboK8Y6dI-Ah"
      },
      "execution_count": null,
      "outputs": []
    },
    {
      "cell_type": "code",
      "source": [
        "# посмотрим как давно он/она сдавал(а) кровь\n",
        "# с помощью x и hue мы можем уместить две категориальные переменные на одном графике\n",
        "sns.countplot(x = 'Recency (months)', hue = 'whether he/she donated blood in March 2007', data =\n",
        "transfusion)"
      ],
      "metadata": {
        "colab": {
          "base_uri": "https://localhost:8080/",
          "height": 296
        },
        "id": "d1X6gvguJxdh",
        "outputId": "95fa75f1-66ea-4830-d6a8-ddf3eb949472"
      },
      "execution_count": null,
      "outputs": [
        {
          "output_type": "execute_result",
          "data": {
            "text/plain": [
              "<matplotlib.axes._subplots.AxesSubplot at 0x7f296d9a29d0>"
            ]
          },
          "metadata": {},
          "execution_count": 57
        },
        {
          "output_type": "display_data",
          "data": {
            "text/plain": [
              "<Figure size 432x288 with 1 Axes>"
            ],
            "image/png": "[encoded data removed]"
          },
          "metadata": {
            "needs_background": "light"
          }
        }
      ]
    },
    {
      "cell_type": "code",
      "source": [
        "# выявим пропущенные значения с помощью .isnull() и посчитаем их количество sum()\n",
        "transfusion.isnull().sum()"
      ],
      "metadata": {
        "colab": {
          "base_uri": "https://localhost:8080/"
        },
        "id": "n8Y_lme1MRq5",
        "outputId": "ca945b28-04de-48b4-abc3-9ddadd49f8e3"
      },
      "execution_count": null,
      "outputs": [
        {
          "output_type": "execute_result",
          "data": {
            "text/plain": [
              "Recency (months)                              0\n",
              "Frequency (times)                             0\n",
              "Monetary (c.c. blood)                         0\n",
              "Time (months)                                 0\n",
              "whether he/she donated blood in March 2007    0\n",
              "dtype: int64"
            ]
          },
          "metadata": {},
          "execution_count": 58
        }
      ]
    },
    {
      "cell_type": "code",
      "source": [
        "# применим one-hot encoding к переменной 'whether he/she donated blood in March 2007' \n",
        "#(сдавал(a) ли он/она кровь в марте 2007 г.) с помощью метода .get_dummies()\n",
        "pd.get_dummies(transfusion['whether he/she donated blood in March 2007']).head(5)"
      ],
      "metadata": {
        "colab": {
          "base_uri": "https://localhost:8080/",
          "height": 206
        },
        "id": "53RGEIycOu6f",
        "outputId": "a06be658-649e-4fd8-945c-5ebeb0950c86"
      },
      "execution_count": null,
      "outputs": [
        {
          "output_type": "execute_result",
          "data": {
            "text/plain": [
              "   0  1\n",
              "0  0  1\n",
              "1  0  1\n",
              "2  0  1\n",
              "3  0  1\n",
              "4  1  0"
            ],
            "text/html": [
              "\n",
              "  <div id=\"df-aa4510d2-321b-41e9-93ac-bac572bde742\">\n",
              "    <div class=\"colab-df-container\">\n",
              "      <div>\n",
              "<style scoped>\n",
              "    .dataframe tbody tr th:only-of-type {\n",
              "        vertical-align: middle;\n",
              "    }\n",
              "\n",
              "    .dataframe tbody tr th {\n",
              "        vertical-align: top;\n",
              "    }\n",
              "\n",
              "    .dataframe thead th {\n",
              "        text-align: right;\n",
              "    }\n",
              "</style>\n",
              "<table border=\"1\" class=\"dataframe\">\n",
              "  <thead>\n",
              "    <tr style=\"text-align: right;\">\n",
              "      <th></th>\n",
              "      <th>0</th>\n",
              "      <th>1</th>\n",
              "    </tr>\n",
              "  </thead>\n",
              "  <tbody>\n",
              "    <tr>\n",
              "      <th>0</th>\n",
              "      <td>0</td>\n",
              "      <td>1</td>\n",
              "    </tr>\n",
              "    <tr>\n",
              "      <th>1</th>\n",
              "      <td>0</td>\n",
              "      <td>1</td>\n",
              "    </tr>\n",
              "    <tr>\n",
              "      <th>2</th>\n",
              "      <td>0</td>\n",
              "      <td>1</td>\n",
              "    </tr>\n",
              "    <tr>\n",
              "      <th>3</th>\n",
              "      <td>0</td>\n",
              "      <td>1</td>\n",
              "    </tr>\n",
              "    <tr>\n",
              "      <th>4</th>\n",
              "      <td>1</td>\n",
              "      <td>0</td>\n",
              "    </tr>\n",
              "  </tbody>\n",
              "</table>\n",
              "</div>\n",
              "      <button class=\"colab-df-convert\" onclick=\"convertToInteractive('df-aa4510d2-321b-41e9-93ac-bac572bde742')\"\n",
              "              title=\"Convert this dataframe to an interactive table.\"\n",
              "              style=\"display:none;\">\n",
              "        \n",
              "  <svg xmlns=\"http://www.w3.org/2000/svg\" height=\"24px\"viewBox=\"0 0 24 24\"\n",
              "       width=\"24px\">\n",
              "    <path d=\"M0 0h24v24H0V0z\" fill=\"none\"/>\n",
              "    <path d=\"M18.56 5.44l.94 2.06.94-2.06 2.06-.94-2.06-.94-.94-2.06-.94 2.06-2.06.94zm-11 1L8.5 8.5l.94-2.06 2.06-.94-2.06-.94L8.5 2.5l-.94 2.06-2.06.94zm10 10l.94 2.06.94-2.06 2.06-.94-2.06-.94-.94-2.06-.94 2.06-2.06.94z\"/><path d=\"M17.41 7.96l-1.37-1.37c-.4-.4-.92-.59-1.43-.59-.52 0-1.04.2-1.43.59L10.3 9.45l-7.72 7.72c-.78.78-.78 2.05 0 2.83L4 21.41c.39.39.9.59 1.41.59.51 0 1.02-.2 1.41-.59l7.78-7.78 2.81-2.81c.8-.78.8-2.07 0-2.86zM5.41 20L4 18.59l7.72-7.72 1.47 1.35L5.41 20z\"/>\n",
              "  </svg>\n",
              "      </button>\n",
              "      \n",
              "  <style>\n",
              "    .colab-df-container {\n",
              "      display:flex;\n",
              "      flex-wrap:wrap;\n",
              "      gap: 12px;\n",
              "    }\n",
              "\n",
              "    .colab-df-convert {\n",
              "      background-color: #E8F0FE;\n",
              "      border: none;\n",
              "      border-radius: 50%;\n",
              "      cursor: pointer;\n",
              "      display: none;\n",
              "      fill: #1967D2;\n",
              "      height: 32px;\n",
              "      padding: 0 0 0 0;\n",
              "      width: 32px;\n",
              "    }\n",
              "\n",
              "    .colab-df-convert:hover {\n",
              "      background-color: #E2EBFA;\n",
              "      box-shadow: 0px 1px 2px rgba(60, 64, 67, 0.3), 0px 1px 3px 1px rgba(60, 64, 67, 0.15);\n",
              "      fill: #174EA6;\n",
              "    }\n",
              "\n",
              "    [theme=dark] .colab-df-convert {\n",
              "      background-color: #3B4455;\n",
              "      fill: #D2E3FC;\n",
              "    }\n",
              "\n",
              "    [theme=dark] .colab-df-convert:hover {\n",
              "      background-color: #434B5C;\n",
              "      box-shadow: 0px 1px 3px 1px rgba(0, 0, 0, 0.15);\n",
              "      filter: drop-shadow(0px 1px 2px rgba(0, 0, 0, 0.3));\n",
              "      fill: #FFFFFF;\n",
              "    }\n",
              "  </style>\n",
              "\n",
              "      <script>\n",
              "        const buttonEl =\n",
              "          document.querySelector('#df-aa4510d2-321b-41e9-93ac-bac572bde742 button.colab-df-convert');\n",
              "        buttonEl.style.display =\n",
              "          google.colab.kernel.accessAllowed ? 'block' : 'none';\n",
              "\n",
              "        async function convertToInteractive(key) {\n",
              "          const element = document.querySelector('#df-aa4510d2-321b-41e9-93ac-bac572bde742');\n",
              "          const dataTable =\n",
              "            await google.colab.kernel.invokeFunction('convertToInteractive',\n",
              "                                                     [key], {});\n",
              "          if (!dataTable) return;\n",
              "\n",
              "          const docLinkHtml = 'Like what you see? Visit the ' +\n",
              "            '<a target=\"_blank\" href=https://colab.research.google.com/notebooks/data_table.ipynb>data table notebook</a>'\n",
              "            + ' to learn more about interactive tables.';\n",
              "          element.innerHTML = '';\n",
              "          dataTable['output_type'] = 'display_data';\n",
              "          await google.colab.output.renderOutput(dataTable, element);\n",
              "          const docLink = document.createElement('div');\n",
              "          docLink.innerHTML = docLinkHtml;\n",
              "          element.appendChild(docLink);\n",
              "        }\n",
              "      </script>\n",
              "    </div>\n",
              "  </div>\n",
              "  "
            ]
          },
          "metadata": {},
          "execution_count": 59
        }
      ]
    },
    {
      "cell_type": "code",
      "source": [
        "# удалим первый столбец, он избыточен\n",
        "sex = pd.get_dummies(transfusion['whether he/she donated blood in March 2007'], drop_first = True)\n",
        "sex.head(5)"
      ],
      "metadata": {
        "colab": {
          "base_uri": "https://localhost:8080/",
          "height": 206
        },
        "id": "eLjfv92_T5Pp",
        "outputId": "bf5d9ec7-3049-4dd6-8eb1-b35e94ab880b"
      },
      "execution_count": null,
      "outputs": [
        {
          "output_type": "execute_result",
          "data": {
            "text/plain": [
              "   1\n",
              "0  1\n",
              "1  1\n",
              "2  1\n",
              "3  1\n",
              "4  0"
            ],
            "text/html": [
              "\n",
              "  <div id=\"df-e0d61dfa-6276-4abf-a180-c1f45ca90c2c\">\n",
              "    <div class=\"colab-df-container\">\n",
              "      <div>\n",
              "<style scoped>\n",
              "    .dataframe tbody tr th:only-of-type {\n",
              "        vertical-align: middle;\n",
              "    }\n",
              "\n",
              "    .dataframe tbody tr th {\n",
              "        vertical-align: top;\n",
              "    }\n",
              "\n",
              "    .dataframe thead th {\n",
              "        text-align: right;\n",
              "    }\n",
              "</style>\n",
              "<table border=\"1\" class=\"dataframe\">\n",
              "  <thead>\n",
              "    <tr style=\"text-align: right;\">\n",
              "      <th></th>\n",
              "      <th>1</th>\n",
              "    </tr>\n",
              "  </thead>\n",
              "  <tbody>\n",
              "    <tr>\n",
              "      <th>0</th>\n",
              "      <td>1</td>\n",
              "    </tr>\n",
              "    <tr>\n",
              "      <th>1</th>\n",
              "      <td>1</td>\n",
              "    </tr>\n",
              "    <tr>\n",
              "      <th>2</th>\n",
              "      <td>1</td>\n",
              "    </tr>\n",
              "    <tr>\n",
              "      <th>3</th>\n",
              "      <td>1</td>\n",
              "    </tr>\n",
              "    <tr>\n",
              "      <th>4</th>\n",
              "      <td>0</td>\n",
              "    </tr>\n",
              "  </tbody>\n",
              "</table>\n",
              "</div>\n",
              "      <button class=\"colab-df-convert\" onclick=\"convertToInteractive('df-e0d61dfa-6276-4abf-a180-c1f45ca90c2c')\"\n",
              "              title=\"Convert this dataframe to an interactive table.\"\n",
              "              style=\"display:none;\">\n",
              "        \n",
              "  <svg xmlns=\"http://www.w3.org/2000/svg\" height=\"24px\"viewBox=\"0 0 24 24\"\n",
              "       width=\"24px\">\n",
              "    <path d=\"M0 0h24v24H0V0z\" fill=\"none\"/>\n",
              "    <path d=\"M18.56 5.44l.94 2.06.94-2.06 2.06-.94-2.06-.94-.94-2.06-.94 2.06-2.06.94zm-11 1L8.5 8.5l.94-2.06 2.06-.94-2.06-.94L8.5 2.5l-.94 2.06-2.06.94zm10 10l.94 2.06.94-2.06 2.06-.94-2.06-.94-.94-2.06-.94 2.06-2.06.94z\"/><path d=\"M17.41 7.96l-1.37-1.37c-.4-.4-.92-.59-1.43-.59-.52 0-1.04.2-1.43.59L10.3 9.45l-7.72 7.72c-.78.78-.78 2.05 0 2.83L4 21.41c.39.39.9.59 1.41.59.51 0 1.02-.2 1.41-.59l7.78-7.78 2.81-2.81c.8-.78.8-2.07 0-2.86zM5.41 20L4 18.59l7.72-7.72 1.47 1.35L5.41 20z\"/>\n",
              "  </svg>\n",
              "      </button>\n",
              "      \n",
              "  <style>\n",
              "    .colab-df-container {\n",
              "      display:flex;\n",
              "      flex-wrap:wrap;\n",
              "      gap: 12px;\n",
              "    }\n",
              "\n",
              "    .colab-df-convert {\n",
              "      background-color: #E8F0FE;\n",
              "      border: none;\n",
              "      border-radius: 50%;\n",
              "      cursor: pointer;\n",
              "      display: none;\n",
              "      fill: #1967D2;\n",
              "      height: 32px;\n",
              "      padding: 0 0 0 0;\n",
              "      width: 32px;\n",
              "    }\n",
              "\n",
              "    .colab-df-convert:hover {\n",
              "      background-color: #E2EBFA;\n",
              "      box-shadow: 0px 1px 2px rgba(60, 64, 67, 0.3), 0px 1px 3px 1px rgba(60, 64, 67, 0.15);\n",
              "      fill: #174EA6;\n",
              "    }\n",
              "\n",
              "    [theme=dark] .colab-df-convert {\n",
              "      background-color: #3B4455;\n",
              "      fill: #D2E3FC;\n",
              "    }\n",
              "\n",
              "    [theme=dark] .colab-df-convert:hover {\n",
              "      background-color: #434B5C;\n",
              "      box-shadow: 0px 1px 3px 1px rgba(0, 0, 0, 0.15);\n",
              "      filter: drop-shadow(0px 1px 2px rgba(0, 0, 0, 0.3));\n",
              "      fill: #FFFFFF;\n",
              "    }\n",
              "  </style>\n",
              "\n",
              "      <script>\n",
              "        const buttonEl =\n",
              "          document.querySelector('#df-e0d61dfa-6276-4abf-a180-c1f45ca90c2c button.colab-df-convert');\n",
              "        buttonEl.style.display =\n",
              "          google.colab.kernel.accessAllowed ? 'block' : 'none';\n",
              "\n",
              "        async function convertToInteractive(key) {\n",
              "          const element = document.querySelector('#df-e0d61dfa-6276-4abf-a180-c1f45ca90c2c');\n",
              "          const dataTable =\n",
              "            await google.colab.kernel.invokeFunction('convertToInteractive',\n",
              "                                                     [key], {});\n",
              "          if (!dataTable) return;\n",
              "\n",
              "          const docLinkHtml = 'Like what you see? Visit the ' +\n",
              "            '<a target=\"_blank\" href=https://colab.research.google.com/notebooks/data_table.ipynb>data table notebook</a>'\n",
              "            + ' to learn more about interactive tables.';\n",
              "          element.innerHTML = '';\n",
              "          dataTable['output_type'] = 'display_data';\n",
              "          await google.colab.output.renderOutput(dataTable, element);\n",
              "          const docLink = document.createElement('div');\n",
              "          docLink.innerHTML = docLinkHtml;\n",
              "          element.appendChild(docLink);\n",
              "        }\n",
              "      </script>\n",
              "    </div>\n",
              "  </div>\n",
              "  "
            ]
          },
          "metadata": {},
          "execution_count": 26
        }
      ]
    },
    {
      "cell_type": "code",
      "source": [
        "transfusion.head(3)"
      ],
      "metadata": {
        "colab": {
          "base_uri": "https://localhost:8080/",
          "height": 205
        },
        "id": "5m03nXZh2rHp",
        "outputId": "a4d984fa-122b-4cb7-ca3e-6874710f3e0a"
      },
      "execution_count": null,
      "outputs": [
        {
          "output_type": "execute_result",
          "data": {
            "text/plain": [
              "   Recency (months)  Frequency (times)  Monetary (c.c. blood)  Time (months)  \\\n",
              "0                 2                 50                  12500             98   \n",
              "1                 0                 13                   3250             28   \n",
              "2                 1                 16                   4000             35   \n",
              "\n",
              "   whether he/she donated blood in March 2007  \n",
              "0                                           1  \n",
              "1                                           1  \n",
              "2                                           1  "
            ],
            "text/html": [
              "\n",
              "  <div id=\"df-dfdb5472-5a9f-441d-be41-8db389dda571\">\n",
              "    <div class=\"colab-df-container\">\n",
              "      <div>\n",
              "<style scoped>\n",
              "    .dataframe tbody tr th:only-of-type {\n",
              "        vertical-align: middle;\n",
              "    }\n",
              "\n",
              "    .dataframe tbody tr th {\n",
              "        vertical-align: top;\n",
              "    }\n",
              "\n",
              "    .dataframe thead th {\n",
              "        text-align: right;\n",
              "    }\n",
              "</style>\n",
              "<table border=\"1\" class=\"dataframe\">\n",
              "  <thead>\n",
              "    <tr style=\"text-align: right;\">\n",
              "      <th></th>\n",
              "      <th>Recency (months)</th>\n",
              "      <th>Frequency (times)</th>\n",
              "      <th>Monetary (c.c. blood)</th>\n",
              "      <th>Time (months)</th>\n",
              "      <th>whether he/she donated blood in March 2007</th>\n",
              "    </tr>\n",
              "  </thead>\n",
              "  <tbody>\n",
              "    <tr>\n",
              "      <th>0</th>\n",
              "      <td>2</td>\n",
              "      <td>50</td>\n",
              "      <td>12500</td>\n",
              "      <td>98</td>\n",
              "      <td>1</td>\n",
              "    </tr>\n",
              "    <tr>\n",
              "      <th>1</th>\n",
              "      <td>0</td>\n",
              "      <td>13</td>\n",
              "      <td>3250</td>\n",
              "      <td>28</td>\n",
              "      <td>1</td>\n",
              "    </tr>\n",
              "    <tr>\n",
              "      <th>2</th>\n",
              "      <td>1</td>\n",
              "      <td>16</td>\n",
              "      <td>4000</td>\n",
              "      <td>35</td>\n",
              "      <td>1</td>\n",
              "    </tr>\n",
              "  </tbody>\n",
              "</table>\n",
              "</div>\n",
              "      <button class=\"colab-df-convert\" onclick=\"convertToInteractive('df-dfdb5472-5a9f-441d-be41-8db389dda571')\"\n",
              "              title=\"Convert this dataframe to an interactive table.\"\n",
              "              style=\"display:none;\">\n",
              "        \n",
              "  <svg xmlns=\"http://www.w3.org/2000/svg\" height=\"24px\"viewBox=\"0 0 24 24\"\n",
              "       width=\"24px\">\n",
              "    <path d=\"M0 0h24v24H0V0z\" fill=\"none\"/>\n",
              "    <path d=\"M18.56 5.44l.94 2.06.94-2.06 2.06-.94-2.06-.94-.94-2.06-.94 2.06-2.06.94zm-11 1L8.5 8.5l.94-2.06 2.06-.94-2.06-.94L8.5 2.5l-.94 2.06-2.06.94zm10 10l.94 2.06.94-2.06 2.06-.94-2.06-.94-.94-2.06-.94 2.06-2.06.94z\"/><path d=\"M17.41 7.96l-1.37-1.37c-.4-.4-.92-.59-1.43-.59-.52 0-1.04.2-1.43.59L10.3 9.45l-7.72 7.72c-.78.78-.78 2.05 0 2.83L4 21.41c.39.39.9.59 1.41.59.51 0 1.02-.2 1.41-.59l7.78-7.78 2.81-2.81c.8-.78.8-2.07 0-2.86zM5.41 20L4 18.59l7.72-7.72 1.47 1.35L5.41 20z\"/>\n",
              "  </svg>\n",
              "      </button>\n",
              "      \n",
              "  <style>\n",
              "    .colab-df-container {\n",
              "      display:flex;\n",
              "      flex-wrap:wrap;\n",
              "      gap: 12px;\n",
              "    }\n",
              "\n",
              "    .colab-df-convert {\n",
              "      background-color: #E8F0FE;\n",
              "      border: none;\n",
              "      border-radius: 50%;\n",
              "      cursor: pointer;\n",
              "      display: none;\n",
              "      fill: #1967D2;\n",
              "      height: 32px;\n",
              "      padding: 0 0 0 0;\n",
              "      width: 32px;\n",
              "    }\n",
              "\n",
              "    .colab-df-convert:hover {\n",
              "      background-color: #E2EBFA;\n",
              "      box-shadow: 0px 1px 2px rgba(60, 64, 67, 0.3), 0px 1px 3px 1px rgba(60, 64, 67, 0.15);\n",
              "      fill: #174EA6;\n",
              "    }\n",
              "\n",
              "    [theme=dark] .colab-df-convert {\n",
              "      background-color: #3B4455;\n",
              "      fill: #D2E3FC;\n",
              "    }\n",
              "\n",
              "    [theme=dark] .colab-df-convert:hover {\n",
              "      background-color: #434B5C;\n",
              "      box-shadow: 0px 1px 3px 1px rgba(0, 0, 0, 0.15);\n",
              "      filter: drop-shadow(0px 1px 2px rgba(0, 0, 0, 0.3));\n",
              "      fill: #FFFFFF;\n",
              "    }\n",
              "  </style>\n",
              "\n",
              "      <script>\n",
              "        const buttonEl =\n",
              "          document.querySelector('#df-dfdb5472-5a9f-441d-be41-8db389dda571 button.colab-df-convert');\n",
              "        buttonEl.style.display =\n",
              "          google.colab.kernel.accessAllowed ? 'block' : 'none';\n",
              "\n",
              "        async function convertToInteractive(key) {\n",
              "          const element = document.querySelector('#df-dfdb5472-5a9f-441d-be41-8db389dda571');\n",
              "          const dataTable =\n",
              "            await google.colab.kernel.invokeFunction('convertToInteractive',\n",
              "                                                     [key], {});\n",
              "          if (!dataTable) return;\n",
              "\n",
              "          const docLinkHtml = 'Like what you see? Visit the ' +\n",
              "            '<a target=\"_blank\" href=https://colab.research.google.com/notebooks/data_table.ipynb>data table notebook</a>'\n",
              "            + ' to learn more about interactive tables.';\n",
              "          element.innerHTML = '';\n",
              "          dataTable['output_type'] = 'display_data';\n",
              "          await google.colab.output.renderOutput(dataTable, element);\n",
              "          const docLink = document.createElement('div');\n",
              "          docLink.innerHTML = docLinkHtml;\n",
              "          element.appendChild(docLink);\n",
              "        }\n",
              "      </script>\n",
              "    </div>\n",
              "  </div>\n",
              "  "
            ]
          },
          "metadata": {},
          "execution_count": 69
        }
      ]
    },
    {
      "cell_type": "code",
      "source": [
        "# импортируем класс StandardScaler\n",
        "from sklearn.preprocessing import StandardScaler\n",
        "# создадим объект этого класса\n",
        "scaler = StandardScaler()\n",
        "# выберем те столбцы, которые мы хотим масштабировать\n",
        "cols_to_scale = ['Recency (months)', 'Frequency (times)', 'Monetary (c.c. blood)', 'Time (months)']\n",
        "\n",
        "# рассчитаем среднее арифметическое и СКО для масштабирования данных\n",
        "scaler.fit(transfusion[cols_to_scale])\n",
        "\n",
        "# применим их\n",
        "transfusion[cols_to_scale] = scaler.transform(transfusion[cols_to_scale])\n",
        "\n",
        "# посмотрим на результат\n",
        "transfusion.head(3)"
      ],
      "metadata": {
        "colab": {
          "base_uri": "https://localhost:8080/",
          "height": 205
        },
        "id": "grKNgEaw4aeK",
        "outputId": "9130ff6e-ada9-462f-965e-b8796d4d3442"
      },
      "execution_count": null,
      "outputs": [
        {
          "output_type": "execute_result",
          "data": {
            "text/plain": [
              "   Recency (months)  Frequency (times)  Monetary (c.c. blood)  Time (months)  \\\n",
              "0         -0.927899           7.623346               7.623346       2.615633   \n",
              "1         -1.175118           1.282738               1.282738      -0.257881   \n",
              "2         -1.051508           1.796842               1.796842       0.029471   \n",
              "\n",
              "   whether he/she donated blood in March 2007  \n",
              "0                                           1  \n",
              "1                                           1  \n",
              "2                                           1  "
            ],
            "text/html": [
              "\n",
              "  <div id=\"df-8b9dfbae-1976-4568-b3ab-112e25e2e2cc\">\n",
              "    <div class=\"colab-df-container\">\n",
              "      <div>\n",
              "<style scoped>\n",
              "    .dataframe tbody tr th:only-of-type {\n",
              "        vertical-align: middle;\n",
              "    }\n",
              "\n",
              "    .dataframe tbody tr th {\n",
              "        vertical-align: top;\n",
              "    }\n",
              "\n",
              "    .dataframe thead th {\n",
              "        text-align: right;\n",
              "    }\n",
              "</style>\n",
              "<table border=\"1\" class=\"dataframe\">\n",
              "  <thead>\n",
              "    <tr style=\"text-align: right;\">\n",
              "      <th></th>\n",
              "      <th>Recency (months)</th>\n",
              "      <th>Frequency (times)</th>\n",
              "      <th>Monetary (c.c. blood)</th>\n",
              "      <th>Time (months)</th>\n",
              "      <th>whether he/she donated blood in March 2007</th>\n",
              "    </tr>\n",
              "  </thead>\n",
              "  <tbody>\n",
              "    <tr>\n",
              "      <th>0</th>\n",
              "      <td>-0.927899</td>\n",
              "      <td>7.623346</td>\n",
              "      <td>7.623346</td>\n",
              "      <td>2.615633</td>\n",
              "      <td>1</td>\n",
              "    </tr>\n",
              "    <tr>\n",
              "      <th>1</th>\n",
              "      <td>-1.175118</td>\n",
              "      <td>1.282738</td>\n",
              "      <td>1.282738</td>\n",
              "      <td>-0.257881</td>\n",
              "      <td>1</td>\n",
              "    </tr>\n",
              "    <tr>\n",
              "      <th>2</th>\n",
              "      <td>-1.051508</td>\n",
              "      <td>1.796842</td>\n",
              "      <td>1.796842</td>\n",
              "      <td>0.029471</td>\n",
              "      <td>1</td>\n",
              "    </tr>\n",
              "  </tbody>\n",
              "</table>\n",
              "</div>\n",
              "      <button class=\"colab-df-convert\" onclick=\"convertToInteractive('df-8b9dfbae-1976-4568-b3ab-112e25e2e2cc')\"\n",
              "              title=\"Convert this dataframe to an interactive table.\"\n",
              "              style=\"display:none;\">\n",
              "        \n",
              "  <svg xmlns=\"http://www.w3.org/2000/svg\" height=\"24px\"viewBox=\"0 0 24 24\"\n",
              "       width=\"24px\">\n",
              "    <path d=\"M0 0h24v24H0V0z\" fill=\"none\"/>\n",
              "    <path d=\"M18.56 5.44l.94 2.06.94-2.06 2.06-.94-2.06-.94-.94-2.06-.94 2.06-2.06.94zm-11 1L8.5 8.5l.94-2.06 2.06-.94-2.06-.94L8.5 2.5l-.94 2.06-2.06.94zm10 10l.94 2.06.94-2.06 2.06-.94-2.06-.94-.94-2.06-.94 2.06-2.06.94z\"/><path d=\"M17.41 7.96l-1.37-1.37c-.4-.4-.92-.59-1.43-.59-.52 0-1.04.2-1.43.59L10.3 9.45l-7.72 7.72c-.78.78-.78 2.05 0 2.83L4 21.41c.39.39.9.59 1.41.59.51 0 1.02-.2 1.41-.59l7.78-7.78 2.81-2.81c.8-.78.8-2.07 0-2.86zM5.41 20L4 18.59l7.72-7.72 1.47 1.35L5.41 20z\"/>\n",
              "  </svg>\n",
              "      </button>\n",
              "      \n",
              "  <style>\n",
              "    .colab-df-container {\n",
              "      display:flex;\n",
              "      flex-wrap:wrap;\n",
              "      gap: 12px;\n",
              "    }\n",
              "\n",
              "    .colab-df-convert {\n",
              "      background-color: #E8F0FE;\n",
              "      border: none;\n",
              "      border-radius: 50%;\n",
              "      cursor: pointer;\n",
              "      display: none;\n",
              "      fill: #1967D2;\n",
              "      height: 32px;\n",
              "      padding: 0 0 0 0;\n",
              "      width: 32px;\n",
              "    }\n",
              "\n",
              "    .colab-df-convert:hover {\n",
              "      background-color: #E2EBFA;\n",
              "      box-shadow: 0px 1px 2px rgba(60, 64, 67, 0.3), 0px 1px 3px 1px rgba(60, 64, 67, 0.15);\n",
              "      fill: #174EA6;\n",
              "    }\n",
              "\n",
              "    [theme=dark] .colab-df-convert {\n",
              "      background-color: #3B4455;\n",
              "      fill: #D2E3FC;\n",
              "    }\n",
              "\n",
              "    [theme=dark] .colab-df-convert:hover {\n",
              "      background-color: #434B5C;\n",
              "      box-shadow: 0px 1px 3px 1px rgba(0, 0, 0, 0.15);\n",
              "      filter: drop-shadow(0px 1px 2px rgba(0, 0, 0, 0.3));\n",
              "      fill: #FFFFFF;\n",
              "    }\n",
              "  </style>\n",
              "\n",
              "      <script>\n",
              "        const buttonEl =\n",
              "          document.querySelector('#df-8b9dfbae-1976-4568-b3ab-112e25e2e2cc button.colab-df-convert');\n",
              "        buttonEl.style.display =\n",
              "          google.colab.kernel.accessAllowed ? 'block' : 'none';\n",
              "\n",
              "        async function convertToInteractive(key) {\n",
              "          const element = document.querySelector('#df-8b9dfbae-1976-4568-b3ab-112e25e2e2cc');\n",
              "          const dataTable =\n",
              "            await google.colab.kernel.invokeFunction('convertToInteractive',\n",
              "                                                     [key], {});\n",
              "          if (!dataTable) return;\n",
              "\n",
              "          const docLinkHtml = 'Like what you see? Visit the ' +\n",
              "            '<a target=\"_blank\" href=https://colab.research.google.com/notebooks/data_table.ipynb>data table notebook</a>'\n",
              "            + ' to learn more about interactive tables.';\n",
              "          element.innerHTML = '';\n",
              "          dataTable['output_type'] = 'display_data';\n",
              "          await google.colab.output.renderOutput(dataTable, element);\n",
              "          const docLink = document.createElement('div');\n",
              "          docLink.innerHTML = docLinkHtml;\n",
              "          element.appendChild(docLink);\n",
              "        }\n",
              "      </script>\n",
              "    </div>\n",
              "  </div>\n",
              "  "
            ]
          },
          "metadata": {},
          "execution_count": 71
        }
      ]
    },
    {
      "cell_type": "code",
      "source": [
        "transfusion.columns"
      ],
      "metadata": {
        "colab": {
          "base_uri": "https://localhost:8080/"
        },
        "id": "sI0gL0B65QxU",
        "outputId": "3ef9b4bf-9e04-4cf8-9e21-064009c47720"
      },
      "execution_count": null,
      "outputs": [
        {
          "output_type": "execute_result",
          "data": {
            "text/plain": [
              "Index(['Recency (months)', 'Frequency (times)', 'Monetary (c.c. blood)',\n",
              "       'Time (months)', 'whether he/she donated blood in March 2007'],\n",
              "      dtype='object')"
            ]
          },
          "metadata": {},
          "execution_count": 72
        }
      ]
    },
    {
      "cell_type": "code",
      "source": [
        "# поместим в X_transfusion все кроме столбца whether he/she donated blood in March 2007\n",
        "X_transfusion = transfusion.drop('whether he/she donated blood in March 2007', axis = 1)\n",
        "\n",
        "# столбец 'whether he/she donated blood in March 2007' станет нашей целевой переменной (y_transfusion)\n",
        "y_transfusion = transfusion['whether he/she donated blood in March 2007']\n",
        "\n",
        "1\n",
        "X_transfusion.head(3)"
      ],
      "metadata": {
        "colab": {
          "base_uri": "https://localhost:8080/",
          "height": 143
        },
        "id": "WZqpgT1J6J3U",
        "outputId": "58329690-411d-4b88-f811-4f4061d6de1c"
      },
      "execution_count": null,
      "outputs": [
        {
          "output_type": "execute_result",
          "data": {
            "text/plain": [
              "   Recency (months)  Frequency (times)  Monetary (c.c. blood)  Time (months)\n",
              "0         -0.927899           7.623346               7.623346       2.615633\n",
              "1         -1.175118           1.282738               1.282738      -0.257881\n",
              "2         -1.051508           1.796842               1.796842       0.029471"
            ],
            "text/html": [
              "\n",
              "  <div id=\"df-ee06043c-7cbe-418e-a377-cbd08df7ce95\">\n",
              "    <div class=\"colab-df-container\">\n",
              "      <div>\n",
              "<style scoped>\n",
              "    .dataframe tbody tr th:only-of-type {\n",
              "        vertical-align: middle;\n",
              "    }\n",
              "\n",
              "    .dataframe tbody tr th {\n",
              "        vertical-align: top;\n",
              "    }\n",
              "\n",
              "    .dataframe thead th {\n",
              "        text-align: right;\n",
              "    }\n",
              "</style>\n",
              "<table border=\"1\" class=\"dataframe\">\n",
              "  <thead>\n",
              "    <tr style=\"text-align: right;\">\n",
              "      <th></th>\n",
              "      <th>Recency (months)</th>\n",
              "      <th>Frequency (times)</th>\n",
              "      <th>Monetary (c.c. blood)</th>\n",
              "      <th>Time (months)</th>\n",
              "    </tr>\n",
              "  </thead>\n",
              "  <tbody>\n",
              "    <tr>\n",
              "      <th>0</th>\n",
              "      <td>-0.927899</td>\n",
              "      <td>7.623346</td>\n",
              "      <td>7.623346</td>\n",
              "      <td>2.615633</td>\n",
              "    </tr>\n",
              "    <tr>\n",
              "      <th>1</th>\n",
              "      <td>-1.175118</td>\n",
              "      <td>1.282738</td>\n",
              "      <td>1.282738</td>\n",
              "      <td>-0.257881</td>\n",
              "    </tr>\n",
              "    <tr>\n",
              "      <th>2</th>\n",
              "      <td>-1.051508</td>\n",
              "      <td>1.796842</td>\n",
              "      <td>1.796842</td>\n",
              "      <td>0.029471</td>\n",
              "    </tr>\n",
              "  </tbody>\n",
              "</table>\n",
              "</div>\n",
              "      <button class=\"colab-df-convert\" onclick=\"convertToInteractive('df-ee06043c-7cbe-418e-a377-cbd08df7ce95')\"\n",
              "              title=\"Convert this dataframe to an interactive table.\"\n",
              "              style=\"display:none;\">\n",
              "        \n",
              "  <svg xmlns=\"http://www.w3.org/2000/svg\" height=\"24px\"viewBox=\"0 0 24 24\"\n",
              "       width=\"24px\">\n",
              "    <path d=\"M0 0h24v24H0V0z\" fill=\"none\"/>\n",
              "    <path d=\"M18.56 5.44l.94 2.06.94-2.06 2.06-.94-2.06-.94-.94-2.06-.94 2.06-2.06.94zm-11 1L8.5 8.5l.94-2.06 2.06-.94-2.06-.94L8.5 2.5l-.94 2.06-2.06.94zm10 10l.94 2.06.94-2.06 2.06-.94-2.06-.94-.94-2.06-.94 2.06-2.06.94z\"/><path d=\"M17.41 7.96l-1.37-1.37c-.4-.4-.92-.59-1.43-.59-.52 0-1.04.2-1.43.59L10.3 9.45l-7.72 7.72c-.78.78-.78 2.05 0 2.83L4 21.41c.39.39.9.59 1.41.59.51 0 1.02-.2 1.41-.59l7.78-7.78 2.81-2.81c.8-.78.8-2.07 0-2.86zM5.41 20L4 18.59l7.72-7.72 1.47 1.35L5.41 20z\"/>\n",
              "  </svg>\n",
              "      </button>\n",
              "      \n",
              "  <style>\n",
              "    .colab-df-container {\n",
              "      display:flex;\n",
              "      flex-wrap:wrap;\n",
              "      gap: 12px;\n",
              "    }\n",
              "\n",
              "    .colab-df-convert {\n",
              "      background-color: #E8F0FE;\n",
              "      border: none;\n",
              "      border-radius: 50%;\n",
              "      cursor: pointer;\n",
              "      display: none;\n",
              "      fill: #1967D2;\n",
              "      height: 32px;\n",
              "      padding: 0 0 0 0;\n",
              "      width: 32px;\n",
              "    }\n",
              "\n",
              "    .colab-df-convert:hover {\n",
              "      background-color: #E2EBFA;\n",
              "      box-shadow: 0px 1px 2px rgba(60, 64, 67, 0.3), 0px 1px 3px 1px rgba(60, 64, 67, 0.15);\n",
              "      fill: #174EA6;\n",
              "    }\n",
              "\n",
              "    [theme=dark] .colab-df-convert {\n",
              "      background-color: #3B4455;\n",
              "      fill: #D2E3FC;\n",
              "    }\n",
              "\n",
              "    [theme=dark] .colab-df-convert:hover {\n",
              "      background-color: #434B5C;\n",
              "      box-shadow: 0px 1px 3px 1px rgba(0, 0, 0, 0.15);\n",
              "      filter: drop-shadow(0px 1px 2px rgba(0, 0, 0, 0.3));\n",
              "      fill: #FFFFFF;\n",
              "    }\n",
              "  </style>\n",
              "\n",
              "      <script>\n",
              "        const buttonEl =\n",
              "          document.querySelector('#df-ee06043c-7cbe-418e-a377-cbd08df7ce95 button.colab-df-convert');\n",
              "        buttonEl.style.display =\n",
              "          google.colab.kernel.accessAllowed ? 'block' : 'none';\n",
              "\n",
              "        async function convertToInteractive(key) {\n",
              "          const element = document.querySelector('#df-ee06043c-7cbe-418e-a377-cbd08df7ce95');\n",
              "          const dataTable =\n",
              "            await google.colab.kernel.invokeFunction('convertToInteractive',\n",
              "                                                     [key], {});\n",
              "          if (!dataTable) return;\n",
              "\n",
              "          const docLinkHtml = 'Like what you see? Visit the ' +\n",
              "            '<a target=\"_blank\" href=https://colab.research.google.com/notebooks/data_table.ipynb>data table notebook</a>'\n",
              "            + ' to learn more about interactive tables.';\n",
              "          element.innerHTML = '';\n",
              "          dataTable['output_type'] = 'display_data';\n",
              "          await google.colab.output.renderOutput(dataTable, element);\n",
              "          const docLink = document.createElement('div');\n",
              "          docLink.innerHTML = docLinkHtml;\n",
              "          element.appendChild(docLink);\n",
              "        }\n",
              "      </script>\n",
              "    </div>\n",
              "  </div>\n",
              "  "
            ]
          },
          "metadata": {},
          "execution_count": 73
        }
      ]
    },
    {
      "cell_type": "code",
      "source": [
        "# импортируем логистическую регрессию из модуля linear_model библиотеки sklearn\n",
        "from sklearn.linear_model import LogisticRegression\n",
        "\n",
        "# создадим объект этого класса и запишем его в переменную model\n",
        "model = LogisticRegression()\n",
        "\n",
        "# обучим нашу модель\n",
        "model.fit(X_transfusion, y_transfusion)\n",
        "\n",
        "LogisticRegression()"
      ],
      "metadata": {
        "colab": {
          "base_uri": "https://localhost:8080/"
        },
        "id": "WXRL0fbv-c9V",
        "outputId": "afc169b3-065b-40bd-a2d9-57313556712e"
      },
      "execution_count": null,
      "outputs": [
        {
          "output_type": "execute_result",
          "data": {
            "text/plain": [
              "LogisticRegression()"
            ]
          },
          "metadata": {},
          "execution_count": 74
        }
      ]
    },
    {
      "cell_type": "code",
      "source": [
        "# сделаем предсказание класса на обучающей выборке\n",
        "y_pred_transfusion = model.predict(X_transfusion)"
      ],
      "metadata": {
        "id": "4VBlrzPn-5Ad"
      },
      "execution_count": null,
      "outputs": []
    },
    {
      "cell_type": "code",
      "source": [
        "# построим матрицу ошибок\n",
        "from sklearn.metrics import confusion_matrix\n",
        "\n",
        "# передадим ей фактические и прогнозные значения\n",
        "conf_matrix = confusion_matrix(y_transfusion, y_pred_transfusion)\n",
        "\n",
        "# преобразуем в датафрейм\n",
        "conf_matrix_df = pd.DataFrame(conf_matrix)\n",
        "conf_matrix_df"
      ],
      "metadata": {
        "colab": {
          "base_uri": "https://localhost:8080/",
          "height": 112
        },
        "id": "MkQaMS65_Jq8",
        "outputId": "1c4dc78d-2b6b-42e5-d5ca-1e5fdb100a3d"
      },
      "execution_count": null,
      "outputs": [
        {
          "output_type": "execute_result",
          "data": {
            "text/plain": [
              "     0   1\n",
              "0  556  14\n",
              "1  156  22"
            ],
            "text/html": [
              "\n",
              "  <div id=\"df-7f03b609-6777-4605-af4b-165774e07a0d\">\n",
              "    <div class=\"colab-df-container\">\n",
              "      <div>\n",
              "<style scoped>\n",
              "    .dataframe tbody tr th:only-of-type {\n",
              "        vertical-align: middle;\n",
              "    }\n",
              "\n",
              "    .dataframe tbody tr th {\n",
              "        vertical-align: top;\n",
              "    }\n",
              "\n",
              "    .dataframe thead th {\n",
              "        text-align: right;\n",
              "    }\n",
              "</style>\n",
              "<table border=\"1\" class=\"dataframe\">\n",
              "  <thead>\n",
              "    <tr style=\"text-align: right;\">\n",
              "      <th></th>\n",
              "      <th>0</th>\n",
              "      <th>1</th>\n",
              "    </tr>\n",
              "  </thead>\n",
              "  <tbody>\n",
              "    <tr>\n",
              "      <th>0</th>\n",
              "      <td>556</td>\n",
              "      <td>14</td>\n",
              "    </tr>\n",
              "    <tr>\n",
              "      <th>1</th>\n",
              "      <td>156</td>\n",
              "      <td>22</td>\n",
              "    </tr>\n",
              "  </tbody>\n",
              "</table>\n",
              "</div>\n",
              "      <button class=\"colab-df-convert\" onclick=\"convertToInteractive('df-7f03b609-6777-4605-af4b-165774e07a0d')\"\n",
              "              title=\"Convert this dataframe to an interactive table.\"\n",
              "              style=\"display:none;\">\n",
              "        \n",
              "  <svg xmlns=\"http://www.w3.org/2000/svg\" height=\"24px\"viewBox=\"0 0 24 24\"\n",
              "       width=\"24px\">\n",
              "    <path d=\"M0 0h24v24H0V0z\" fill=\"none\"/>\n",
              "    <path d=\"M18.56 5.44l.94 2.06.94-2.06 2.06-.94-2.06-.94-.94-2.06-.94 2.06-2.06.94zm-11 1L8.5 8.5l.94-2.06 2.06-.94-2.06-.94L8.5 2.5l-.94 2.06-2.06.94zm10 10l.94 2.06.94-2.06 2.06-.94-2.06-.94-.94-2.06-.94 2.06-2.06.94z\"/><path d=\"M17.41 7.96l-1.37-1.37c-.4-.4-.92-.59-1.43-.59-.52 0-1.04.2-1.43.59L10.3 9.45l-7.72 7.72c-.78.78-.78 2.05 0 2.83L4 21.41c.39.39.9.59 1.41.59.51 0 1.02-.2 1.41-.59l7.78-7.78 2.81-2.81c.8-.78.8-2.07 0-2.86zM5.41 20L4 18.59l7.72-7.72 1.47 1.35L5.41 20z\"/>\n",
              "  </svg>\n",
              "      </button>\n",
              "      \n",
              "  <style>\n",
              "    .colab-df-container {\n",
              "      display:flex;\n",
              "      flex-wrap:wrap;\n",
              "      gap: 12px;\n",
              "    }\n",
              "\n",
              "    .colab-df-convert {\n",
              "      background-color: #E8F0FE;\n",
              "      border: none;\n",
              "      border-radius: 50%;\n",
              "      cursor: pointer;\n",
              "      display: none;\n",
              "      fill: #1967D2;\n",
              "      height: 32px;\n",
              "      padding: 0 0 0 0;\n",
              "      width: 32px;\n",
              "    }\n",
              "\n",
              "    .colab-df-convert:hover {\n",
              "      background-color: #E2EBFA;\n",
              "      box-shadow: 0px 1px 2px rgba(60, 64, 67, 0.3), 0px 1px 3px 1px rgba(60, 64, 67, 0.15);\n",
              "      fill: #174EA6;\n",
              "    }\n",
              "\n",
              "    [theme=dark] .colab-df-convert {\n",
              "      background-color: #3B4455;\n",
              "      fill: #D2E3FC;\n",
              "    }\n",
              "\n",
              "    [theme=dark] .colab-df-convert:hover {\n",
              "      background-color: #434B5C;\n",
              "      box-shadow: 0px 1px 3px 1px rgba(0, 0, 0, 0.15);\n",
              "      filter: drop-shadow(0px 1px 2px rgba(0, 0, 0, 0.3));\n",
              "      fill: #FFFFFF;\n",
              "    }\n",
              "  </style>\n",
              "\n",
              "      <script>\n",
              "        const buttonEl =\n",
              "          document.querySelector('#df-7f03b609-6777-4605-af4b-165774e07a0d button.colab-df-convert');\n",
              "        buttonEl.style.display =\n",
              "          google.colab.kernel.accessAllowed ? 'block' : 'none';\n",
              "\n",
              "        async function convertToInteractive(key) {\n",
              "          const element = document.querySelector('#df-7f03b609-6777-4605-af4b-165774e07a0d');\n",
              "          const dataTable =\n",
              "            await google.colab.kernel.invokeFunction('convertToInteractive',\n",
              "                                                     [key], {});\n",
              "          if (!dataTable) return;\n",
              "\n",
              "          const docLinkHtml = 'Like what you see? Visit the ' +\n",
              "            '<a target=\"_blank\" href=https://colab.research.google.com/notebooks/data_table.ipynb>data table notebook</a>'\n",
              "            + ' to learn more about interactive tables.';\n",
              "          element.innerHTML = '';\n",
              "          dataTable['output_type'] = 'display_data';\n",
              "          await google.colab.output.renderOutput(dataTable, element);\n",
              "          const docLink = document.createElement('div');\n",
              "          docLink.innerHTML = docLinkHtml;\n",
              "          element.appendChild(docLink);\n",
              "        }\n",
              "      </script>\n",
              "    </div>\n",
              "  </div>\n",
              "  "
            ]
          },
          "metadata": {},
          "execution_count": 76
        }
      ]
    },
    {
      "cell_type": "code",
      "source": [
        "conf_matrix_labels = pd.DataFrame(conf_matrix, columns = ['Прогноз мужчина', 'Прогноз женщина'], index = ['Факт мужчина', 'Факт женщина'])\n",
        "conf_matrix_labels"
      ],
      "metadata": {
        "colab": {
          "base_uri": "https://localhost:8080/",
          "height": 112
        },
        "id": "ur1G3-D6_rfy",
        "outputId": "e090649d-c9d6-40b5-915f-04a4f6054b76"
      },
      "execution_count": null,
      "outputs": [
        {
          "output_type": "execute_result",
          "data": {
            "text/plain": [
              "              Прогноз мужчина  Прогноз женщина\n",
              "Факт мужчина              556               14\n",
              "Факт женщина              156               22"
            ],
            "text/html": [
              "\n",
              "  <div id=\"df-8293c132-0905-4b4e-8d1c-394917e4de0e\">\n",
              "    <div class=\"colab-df-container\">\n",
              "      <div>\n",
              "<style scoped>\n",
              "    .dataframe tbody tr th:only-of-type {\n",
              "        vertical-align: middle;\n",
              "    }\n",
              "\n",
              "    .dataframe tbody tr th {\n",
              "        vertical-align: top;\n",
              "    }\n",
              "\n",
              "    .dataframe thead th {\n",
              "        text-align: right;\n",
              "    }\n",
              "</style>\n",
              "<table border=\"1\" class=\"dataframe\">\n",
              "  <thead>\n",
              "    <tr style=\"text-align: right;\">\n",
              "      <th></th>\n",
              "      <th>Прогноз мужчина</th>\n",
              "      <th>Прогноз женщина</th>\n",
              "    </tr>\n",
              "  </thead>\n",
              "  <tbody>\n",
              "    <tr>\n",
              "      <th>Факт мужчина</th>\n",
              "      <td>556</td>\n",
              "      <td>14</td>\n",
              "    </tr>\n",
              "    <tr>\n",
              "      <th>Факт женщина</th>\n",
              "      <td>156</td>\n",
              "      <td>22</td>\n",
              "    </tr>\n",
              "  </tbody>\n",
              "</table>\n",
              "</div>\n",
              "      <button class=\"colab-df-convert\" onclick=\"convertToInteractive('df-8293c132-0905-4b4e-8d1c-394917e4de0e')\"\n",
              "              title=\"Convert this dataframe to an interactive table.\"\n",
              "              style=\"display:none;\">\n",
              "        \n",
              "  <svg xmlns=\"http://www.w3.org/2000/svg\" height=\"24px\"viewBox=\"0 0 24 24\"\n",
              "       width=\"24px\">\n",
              "    <path d=\"M0 0h24v24H0V0z\" fill=\"none\"/>\n",
              "    <path d=\"M18.56 5.44l.94 2.06.94-2.06 2.06-.94-2.06-.94-.94-2.06-.94 2.06-2.06.94zm-11 1L8.5 8.5l.94-2.06 2.06-.94-2.06-.94L8.5 2.5l-.94 2.06-2.06.94zm10 10l.94 2.06.94-2.06 2.06-.94-2.06-.94-.94-2.06-.94 2.06-2.06.94z\"/><path d=\"M17.41 7.96l-1.37-1.37c-.4-.4-.92-.59-1.43-.59-.52 0-1.04.2-1.43.59L10.3 9.45l-7.72 7.72c-.78.78-.78 2.05 0 2.83L4 21.41c.39.39.9.59 1.41.59.51 0 1.02-.2 1.41-.59l7.78-7.78 2.81-2.81c.8-.78.8-2.07 0-2.86zM5.41 20L4 18.59l7.72-7.72 1.47 1.35L5.41 20z\"/>\n",
              "  </svg>\n",
              "      </button>\n",
              "      \n",
              "  <style>\n",
              "    .colab-df-container {\n",
              "      display:flex;\n",
              "      flex-wrap:wrap;\n",
              "      gap: 12px;\n",
              "    }\n",
              "\n",
              "    .colab-df-convert {\n",
              "      background-color: #E8F0FE;\n",
              "      border: none;\n",
              "      border-radius: 50%;\n",
              "      cursor: pointer;\n",
              "      display: none;\n",
              "      fill: #1967D2;\n",
              "      height: 32px;\n",
              "      padding: 0 0 0 0;\n",
              "      width: 32px;\n",
              "    }\n",
              "\n",
              "    .colab-df-convert:hover {\n",
              "      background-color: #E2EBFA;\n",
              "      box-shadow: 0px 1px 2px rgba(60, 64, 67, 0.3), 0px 1px 3px 1px rgba(60, 64, 67, 0.15);\n",
              "      fill: #174EA6;\n",
              "    }\n",
              "\n",
              "    [theme=dark] .colab-df-convert {\n",
              "      background-color: #3B4455;\n",
              "      fill: #D2E3FC;\n",
              "    }\n",
              "\n",
              "    [theme=dark] .colab-df-convert:hover {\n",
              "      background-color: #434B5C;\n",
              "      box-shadow: 0px 1px 3px 1px rgba(0, 0, 0, 0.15);\n",
              "      filter: drop-shadow(0px 1px 2px rgba(0, 0, 0, 0.3));\n",
              "      fill: #FFFFFF;\n",
              "    }\n",
              "  </style>\n",
              "\n",
              "      <script>\n",
              "        const buttonEl =\n",
              "          document.querySelector('#df-8293c132-0905-4b4e-8d1c-394917e4de0e button.colab-df-convert');\n",
              "        buttonEl.style.display =\n",
              "          google.colab.kernel.accessAllowed ? 'block' : 'none';\n",
              "\n",
              "        async function convertToInteractive(key) {\n",
              "          const element = document.querySelector('#df-8293c132-0905-4b4e-8d1c-394917e4de0e');\n",
              "          const dataTable =\n",
              "            await google.colab.kernel.invokeFunction('convertToInteractive',\n",
              "                                                     [key], {});\n",
              "          if (!dataTable) return;\n",
              "\n",
              "          const docLinkHtml = 'Like what you see? Visit the ' +\n",
              "            '<a target=\"_blank\" href=https://colab.research.google.com/notebooks/data_table.ipynb>data table notebook</a>'\n",
              "            + ' to learn more about interactive tables.';\n",
              "          element.innerHTML = '';\n",
              "          dataTable['output_type'] = 'display_data';\n",
              "          await google.colab.output.renderOutput(dataTable, element);\n",
              "          const docLink = document.createElement('div');\n",
              "          docLink.innerHTML = docLinkHtml;\n",
              "          element.appendChild(docLink);\n",
              "        }\n",
              "      </script>\n",
              "    </div>\n",
              "  </div>\n",
              "  "
            ]
          },
          "metadata": {},
          "execution_count": 78
        }
      ]
    },
    {
      "cell_type": "code",
      "source": [
        "# рассчитаем метрику accuracy вручную\n",
        "round((556 + 22)/(556 + 22 + 14 + 156), 3)"
      ],
      "metadata": {
        "colab": {
          "base_uri": "https://localhost:8080/"
        },
        "id": "6h0mSYyXA68D",
        "outputId": "bcef45e0-f33e-49ac-ce4f-fad5bf442c11"
      },
      "execution_count": null,
      "outputs": [
        {
          "output_type": "execute_result",
          "data": {
            "text/plain": [
              "0.773"
            ]
          },
          "metadata": {},
          "execution_count": 79
        }
      ]
    },
    {
      "cell_type": "code",
      "source": [
        "# импортируем метрику accuracy из sklearn\n",
        "from sklearn.metrics import accuracy_score\n",
        "\n",
        "# так же передадим ей фактические и прогнозные значения\n",
        "model_accuracy = accuracy_score(y_transfusion, y_pred_transfusion)\n",
        "\n",
        "# округлим до трех знаков после запятой\n",
        "round(model_accuracy, 3)"
      ],
      "metadata": {
        "colab": {
          "base_uri": "https://localhost:8080/"
        },
        "id": "fDScXmN9BKlI",
        "outputId": "fc418763-f83b-4486-ac19-f18a0c579322"
      },
      "execution_count": null,
      "outputs": [
        {
          "output_type": "execute_result",
          "data": {
            "text/plain": [
              "0.773"
            ]
          },
          "metadata": {},
          "execution_count": 80
        }
      ]
    },
    {
      "cell_type": "code",
      "source": [
        "# из библиотеки google.colab импортируем класс files\n",
        "from google.colab import files\n",
        "# создаем объект этого класса, применяем метод\n",
        "#.upload()\n",
        "uploaded = files.upload()"
      ],
      "metadata": {
        "colab": {
          "base_uri": "https://localhost:8080/",
          "height": 74
        },
        "id": "hYcBm-imCmya",
        "outputId": "0dcb7849-4e9e-4b65-afa5-7db06f36e2b9"
      },
      "execution_count": null,
      "outputs": [
        {
          "output_type": "display_data",
          "data": {
            "text/plain": [
              "<IPython.core.display.HTML object>"
            ],
            "text/html": [
              "\n",
              "     <input type=\"file\" id=\"files-59a2147b-4cce-4941-a3a7-ebc089b19bb8\" name=\"files[]\" multiple disabled\n",
              "        style=\"border:none\" />\n",
              "     <output id=\"result-59a2147b-4cce-4941-a3a7-ebc089b19bb8\">\n",
              "      Upload widget is only available when the cell has been executed in the\n",
              "      current browser session. Please rerun this cell to enable.\n",
              "      </output>\n",
              "      <script>// Copyright 2017 Google LLC\n",
              "//\n",
              "// Licensed under the Apache License, Version 2.0 (the \"License\");\n",
              "// you may not use this file except in compliance with the License.\n",
              "// You may obtain a copy of the License at\n",
              "//\n",
              "//      http://www.apache.org/licenses/LICENSE-2.0\n",
              "//\n",
              "// Unless required by applicable law or agreed to in writing, software\n",
              "// distributed under the License is distributed on an \"AS IS\" BASIS,\n",
              "// WITHOUT WARRANTIES OR CONDITIONS OF ANY KIND, either express or implied.\n",
              "// See the License for the specific language governing permissions and\n",
              "// limitations under the License.\n",
              "\n",
              "/**\n",
              " * @fileoverview Helpers for google.colab Python module.\n",
              " */\n",
              "(function(scope) {\n",
              "function span(text, styleAttributes = {}) {\n",
              "  const element = document.createElement('span');\n",
              "  element.textContent = text;\n",
              "  for (const key of Object.keys(styleAttributes)) {\n",
              "    element.style[key] = styleAttributes[key];\n",
              "  }\n",
              "  return element;\n",
              "}\n",
              "\n",
              "// Max number of bytes which will be uploaded at a time.\n",
              "const MAX_PAYLOAD_SIZE = 100 * 1024;\n",
              "\n",
              "function _uploadFiles(inputId, outputId) {\n",
              "  const steps = uploadFilesStep(inputId, outputId);\n",
              "  const outputElement = document.getElementById(outputId);\n",
              "  // Cache steps on the outputElement to make it available for the next call\n",
              "  // to uploadFilesContinue from Python.\n",
              "  outputElement.steps = steps;\n",
              "\n",
              "  return _uploadFilesContinue(outputId);\n",
              "}\n",
              "\n",
              "// This is roughly an async generator (not supported in the browser yet),\n",
              "// where there are multiple asynchronous steps and the Python side is going\n",
              "// to poll for completion of each step.\n",
              "// This uses a Promise to block the python side on completion of each step,\n",
              "// then passes the result of the previous step as the input to the next step.\n",
              "function _uploadFilesContinue(outputId) {\n",
              "  const outputElement = document.getElementById(outputId);\n",
              "  const steps = outputElement.steps;\n",
              "\n",
              "  const next = steps.next(outputElement.lastPromiseValue);\n",
              "  return Promise.resolve(next.value.promise).then((value) => {\n",
              "    // Cache the last promise value to make it available to the next\n",
              "    // step of the generator.\n",
              "    outputElement.lastPromiseValue = value;\n",
              "    return next.value.response;\n",
              "  });\n",
              "}\n",
              "\n",
              "/**\n",
              " * Generator function which is called between each async step of the upload\n",
              " * process.\n",
              " * @param {string} inputId Element ID of the input file picker element.\n",
              " * @param {string} outputId Element ID of the output display.\n",
              " * @return {!Iterable<!Object>} Iterable of next steps.\n",
              " */\n",
              "function* uploadFilesStep(inputId, outputId) {\n",
              "  const inputElement = document.getElementById(inputId);\n",
              "  inputElement.disabled = false;\n",
              "\n",
              "  const outputElement = document.getElementById(outputId);\n",
              "  outputElement.innerHTML = '';\n",
              "\n",
              "  const pickedPromise = new Promise((resolve) => {\n",
              "    inputElement.addEventListener('change', (e) => {\n",
              "      resolve(e.target.files);\n",
              "    });\n",
              "  });\n",
              "\n",
              "  const cancel = document.createElement('button');\n",
              "  inputElement.parentElement.appendChild(cancel);\n",
              "  cancel.textContent = 'Cancel upload';\n",
              "  const cancelPromise = new Promise((resolve) => {\n",
              "    cancel.onclick = () => {\n",
              "      resolve(null);\n",
              "    };\n",
              "  });\n",
              "\n",
              "  // Wait for the user to pick the files.\n",
              "  const files = yield {\n",
              "    promise: Promise.race([pickedPromise, cancelPromise]),\n",
              "    response: {\n",
              "      action: 'starting',\n",
              "    }\n",
              "  };\n",
              "\n",
              "  cancel.remove();\n",
              "\n",
              "  // Disable the input element since further picks are not allowed.\n",
              "  inputElement.disabled = true;\n",
              "\n",
              "  if (!files) {\n",
              "    return {\n",
              "      response: {\n",
              "        action: 'complete',\n",
              "      }\n",
              "    };\n",
              "  }\n",
              "\n",
              "  for (const file of files) {\n",
              "    const li = document.createElement('li');\n",
              "    li.append(span(file.name, {fontWeight: 'bold'}));\n",
              "    li.append(span(\n",
              "        `(${file.type || 'n/a'}) - ${file.size} bytes, ` +\n",
              "        `last modified: ${\n",
              "            file.lastModifiedDate ? file.lastModifiedDate.toLocaleDateString() :\n",
              "                                    'n/a'} - `));\n",
              "    const percent = span('0% done');\n",
              "    li.appendChild(percent);\n",
              "\n",
              "    outputElement.appendChild(li);\n",
              "\n",
              "    const fileDataPromise = new Promise((resolve) => {\n",
              "      const reader = new FileReader();\n",
              "      reader.onload = (e) => {\n",
              "        resolve(e.target.result);\n",
              "      };\n",
              "      reader.readAsArrayBuffer(file);\n",
              "    });\n",
              "    // Wait for the data to be ready.\n",
              "    let fileData = yield {\n",
              "      promise: fileDataPromise,\n",
              "      response: {\n",
              "        action: 'continue',\n",
              "      }\n",
              "    };\n",
              "\n",
              "    // Use a chunked sending to avoid message size limits. See b/62115660.\n",
              "    let position = 0;\n",
              "    do {\n",
              "      const length = Math.min(fileData.byteLength - position, MAX_PAYLOAD_SIZE);\n",
              "      const chunk = new Uint8Array(fileData, position, length);\n",
              "      position += length;\n",
              "\n",
              "      const base64 = btoa(String.fromCharCode.apply(null, chunk));\n",
              "      yield {\n",
              "        response: {\n",
              "          action: 'append',\n",
              "          file: file.name,\n",
              "          data: base64,\n",
              "        },\n",
              "      };\n",
              "\n",
              "      let percentDone = fileData.byteLength === 0 ?\n",
              "          100 :\n",
              "          Math.round((position / fileData.byteLength) * 100);\n",
              "      percent.textContent = `${percentDone}% done`;\n",
              "\n",
              "    } while (position < fileData.byteLength);\n",
              "  }\n",
              "\n",
              "  // All done.\n",
              "  yield {\n",
              "    response: {\n",
              "      action: 'complete',\n",
              "    }\n",
              "  };\n",
              "}\n",
              "\n",
              "scope.google = scope.google || {};\n",
              "scope.google.colab = scope.google.colab || {};\n",
              "scope.google.colab._files = {\n",
              "  _uploadFiles,\n",
              "  _uploadFilesContinue,\n",
              "};\n",
              "})(self);\n",
              "</script> "
            ]
          },
          "metadata": {}
        },
        {
          "output_type": "stream",
          "name": "stdout",
          "text": [
            "Saving test.csv to test.csv\n"
          ]
        }
      ]
    },
    {
      "cell_type": "code",
      "source": [
        "type(uploaded['test.csv'])\n",
        "\n"
      ],
      "metadata": {
        "colab": {
          "base_uri": "https://localhost:8080/"
        },
        "id": "M6IgdqgfCrgH",
        "outputId": "1e574ad4-1e17-47d1-89f1-7edc0b9df053"
      },
      "execution_count": null,
      "outputs": [
        {
          "output_type": "execute_result",
          "data": {
            "text/plain": [
              "bytes"
            ]
          },
          "metadata": {},
          "execution_count": 83
        }
      ]
    },
    {
      "cell_type": "code",
      "source": [
        "uploaded_str = uploaded['test.csv'].decode()"
      ],
      "metadata": {
        "id": "eJnaDg6NDuGu"
      },
      "execution_count": null,
      "outputs": []
    },
    {
      "cell_type": "code",
      "source": [
        "print(type(uploaded_str))"
      ],
      "metadata": {
        "colab": {
          "base_uri": "https://localhost:8080/"
        },
        "id": "6wzq7pdIDwRf",
        "outputId": "cffbe4bb-527b-47b7-8d57-960b27be6faa"
      },
      "execution_count": null,
      "outputs": [
        {
          "output_type": "stream",
          "name": "stdout",
          "text": [
            "<class 'str'>\n"
          ]
        }
      ]
    },
    {
      "cell_type": "code",
      "source": [
        "uploaded_list = uploaded_str.split('\\r\\n')\n",
        "type(uploaded_list)"
      ],
      "metadata": {
        "colab": {
          "base_uri": "https://localhost:8080/"
        },
        "id": "SQ8B3OeoD-Ds",
        "outputId": "c47cc102-cfed-47f6-9058-b4c2a1596b58"
      },
      "execution_count": null,
      "outputs": [
        {
          "output_type": "execute_result",
          "data": {
            "text/plain": [
              "list"
            ]
          },
          "metadata": {},
          "execution_count": 86
        }
      ]
    },
    {
      "cell_type": "code",
      "source": [
        "# передадим функции open() адрес файла\n",
        "# параметр 'r' означает, что мы хотим прочитать (read) файл\n",
        "f1 = open('/content/test.csv', 'r')"
      ],
      "metadata": {
        "id": "TR-oABbSEDmT"
      },
      "execution_count": null,
      "outputs": []
    },
    {
      "cell_type": "code",
      "source": [
        "# метод .read() помещает весь файл в одну строку\n",
        "# выведем первые 142 символа (если параметр не указывать, выведется все содержимое)\n",
        "print(f1.read(142))\n",
        "\n",
        "# в конце файл необходимо закрыть\n",
        "f1.close()"
      ],
      "metadata": {
        "colab": {
          "base_uri": "https://localhost:8080/"
        },
        "id": "dXrxD2qOEMwN",
        "outputId": "adadb0c7-b82d-4731-d81b-fbd9413efbfa"
      },
      "execution_count": null,
      "outputs": [
        {
          "output_type": "stream",
          "name": "stdout",
          "text": [
            "Recency (months),Frequency (times),Monetary (c.c. blood),Time (months),\"whether he/she donated blood in March 2007\"\n",
            "2 ,50,12500,98 ,1\n",
            "0 ,13,32\n"
          ]
        }
      ]
    },
    {
      "cell_type": "code",
      "source": [
        "test = pd.read_csv('/content/test.csv')\n"
      ],
      "metadata": {
        "id": "dU0juhUvEWZr"
      },
      "execution_count": null,
      "outputs": []
    },
    {
      "cell_type": "code",
      "source": [
        "test.info()"
      ],
      "metadata": {
        "colab": {
          "base_uri": "https://localhost:8080/"
        },
        "id": "0gAjmx7hEjne",
        "outputId": "f39ecfa1-744d-49af-8896-a39d03e649a1"
      },
      "execution_count": null,
      "outputs": [
        {
          "output_type": "stream",
          "name": "stdout",
          "text": [
            "<class 'pandas.core.frame.DataFrame'>\n",
            "RangeIndex: 748 entries, 0 to 747\n",
            "Data columns (total 5 columns):\n",
            " #   Column                                      Non-Null Count  Dtype\n",
            "---  ------                                      --------------  -----\n",
            " 0   Recency (months)                            748 non-null    int64\n",
            " 1   Frequency (times)                           748 non-null    int64\n",
            " 2   Monetary (c.c. blood)                       748 non-null    int64\n",
            " 3   Time (months)                               748 non-null    int64\n",
            " 4   whether he/she donated blood in March 2007  748 non-null    int64\n",
            "dtypes: int64(5)\n",
            "memory usage: 29.3 KB\n"
          ]
        }
      ]
    },
    {
      "cell_type": "code",
      "source": [
        "# для начала дадим датасету привычное название X_test\n",
        "X_test = test"
      ],
      "metadata": {
        "id": "XNxcEiZ-Es6m"
      },
      "execution_count": null,
      "outputs": []
    },
    {
      "cell_type": "code",
      "source": [
        "X_test.drop(['whether he/she donated blood in March 2007'], axis = 1, inplace =\n",
        "True)"
      ],
      "metadata": {
        "id": "m-Th6LDTF5iK"
      },
      "execution_count": null,
      "outputs": []
    },
    {
      "cell_type": "code",
      "source": [
        "# применим среднее арифметическое и СКО обучающей выборки для масштабирования тестовых данных\n",
        "X_test[cols_to_scale] = scaler.transform(X_test[cols_to_scale])\n",
        "\n",
        "X_test.head(3)"
      ],
      "metadata": {
        "colab": {
          "base_uri": "https://localhost:8080/",
          "height": 143
        },
        "id": "fO5TkIv3FiF5",
        "outputId": "620f0e97-8bdc-4e2f-b94e-bf28ae619deb"
      },
      "execution_count": null,
      "outputs": [
        {
          "output_type": "execute_result",
          "data": {
            "text/plain": [
              "   Recency (months)  Frequency (times)  Monetary (c.c. blood)  Time (months)\n",
              "0         -0.927899           7.623346               7.623346       2.615633\n",
              "1         -1.175118           1.282738               1.282738      -0.257881\n",
              "2         -1.051508           1.796842               1.796842       0.029471"
            ],
            "text/html": [
              "\n",
              "  <div id=\"df-5cac2d22-343d-449e-9886-23bd8d84c5a4\">\n",
              "    <div class=\"colab-df-container\">\n",
              "      <div>\n",
              "<style scoped>\n",
              "    .dataframe tbody tr th:only-of-type {\n",
              "        vertical-align: middle;\n",
              "    }\n",
              "\n",
              "    .dataframe tbody tr th {\n",
              "        vertical-align: top;\n",
              "    }\n",
              "\n",
              "    .dataframe thead th {\n",
              "        text-align: right;\n",
              "    }\n",
              "</style>\n",
              "<table border=\"1\" class=\"dataframe\">\n",
              "  <thead>\n",
              "    <tr style=\"text-align: right;\">\n",
              "      <th></th>\n",
              "      <th>Recency (months)</th>\n",
              "      <th>Frequency (times)</th>\n",
              "      <th>Monetary (c.c. blood)</th>\n",
              "      <th>Time (months)</th>\n",
              "    </tr>\n",
              "  </thead>\n",
              "  <tbody>\n",
              "    <tr>\n",
              "      <th>0</th>\n",
              "      <td>-0.927899</td>\n",
              "      <td>7.623346</td>\n",
              "      <td>7.623346</td>\n",
              "      <td>2.615633</td>\n",
              "    </tr>\n",
              "    <tr>\n",
              "      <th>1</th>\n",
              "      <td>-1.175118</td>\n",
              "      <td>1.282738</td>\n",
              "      <td>1.282738</td>\n",
              "      <td>-0.257881</td>\n",
              "    </tr>\n",
              "    <tr>\n",
              "      <th>2</th>\n",
              "      <td>-1.051508</td>\n",
              "      <td>1.796842</td>\n",
              "      <td>1.796842</td>\n",
              "      <td>0.029471</td>\n",
              "    </tr>\n",
              "  </tbody>\n",
              "</table>\n",
              "</div>\n",
              "      <button class=\"colab-df-convert\" onclick=\"convertToInteractive('df-5cac2d22-343d-449e-9886-23bd8d84c5a4')\"\n",
              "              title=\"Convert this dataframe to an interactive table.\"\n",
              "              style=\"display:none;\">\n",
              "        \n",
              "  <svg xmlns=\"http://www.w3.org/2000/svg\" height=\"24px\"viewBox=\"0 0 24 24\"\n",
              "       width=\"24px\">\n",
              "    <path d=\"M0 0h24v24H0V0z\" fill=\"none\"/>\n",
              "    <path d=\"M18.56 5.44l.94 2.06.94-2.06 2.06-.94-2.06-.94-.94-2.06-.94 2.06-2.06.94zm-11 1L8.5 8.5l.94-2.06 2.06-.94-2.06-.94L8.5 2.5l-.94 2.06-2.06.94zm10 10l.94 2.06.94-2.06 2.06-.94-2.06-.94-.94-2.06-.94 2.06-2.06.94z\"/><path d=\"M17.41 7.96l-1.37-1.37c-.4-.4-.92-.59-1.43-.59-.52 0-1.04.2-1.43.59L10.3 9.45l-7.72 7.72c-.78.78-.78 2.05 0 2.83L4 21.41c.39.39.9.59 1.41.59.51 0 1.02-.2 1.41-.59l7.78-7.78 2.81-2.81c.8-.78.8-2.07 0-2.86zM5.41 20L4 18.59l7.72-7.72 1.47 1.35L5.41 20z\"/>\n",
              "  </svg>\n",
              "      </button>\n",
              "      \n",
              "  <style>\n",
              "    .colab-df-container {\n",
              "      display:flex;\n",
              "      flex-wrap:wrap;\n",
              "      gap: 12px;\n",
              "    }\n",
              "\n",
              "    .colab-df-convert {\n",
              "      background-color: #E8F0FE;\n",
              "      border: none;\n",
              "      border-radius: 50%;\n",
              "      cursor: pointer;\n",
              "      display: none;\n",
              "      fill: #1967D2;\n",
              "      height: 32px;\n",
              "      padding: 0 0 0 0;\n",
              "      width: 32px;\n",
              "    }\n",
              "\n",
              "    .colab-df-convert:hover {\n",
              "      background-color: #E2EBFA;\n",
              "      box-shadow: 0px 1px 2px rgba(60, 64, 67, 0.3), 0px 1px 3px 1px rgba(60, 64, 67, 0.15);\n",
              "      fill: #174EA6;\n",
              "    }\n",
              "\n",
              "    [theme=dark] .colab-df-convert {\n",
              "      background-color: #3B4455;\n",
              "      fill: #D2E3FC;\n",
              "    }\n",
              "\n",
              "    [theme=dark] .colab-df-convert:hover {\n",
              "      background-color: #434B5C;\n",
              "      box-shadow: 0px 1px 3px 1px rgba(0, 0, 0, 0.15);\n",
              "      filter: drop-shadow(0px 1px 2px rgba(0, 0, 0, 0.3));\n",
              "      fill: #FFFFFF;\n",
              "    }\n",
              "  </style>\n",
              "\n",
              "      <script>\n",
              "        const buttonEl =\n",
              "          document.querySelector('#df-5cac2d22-343d-449e-9886-23bd8d84c5a4 button.colab-df-convert');\n",
              "        buttonEl.style.display =\n",
              "          google.colab.kernel.accessAllowed ? 'block' : 'none';\n",
              "\n",
              "        async function convertToInteractive(key) {\n",
              "          const element = document.querySelector('#df-5cac2d22-343d-449e-9886-23bd8d84c5a4');\n",
              "          const dataTable =\n",
              "            await google.colab.kernel.invokeFunction('convertToInteractive',\n",
              "                                                     [key], {});\n",
              "          if (!dataTable) return;\n",
              "\n",
              "          const docLinkHtml = 'Like what you see? Visit the ' +\n",
              "            '<a target=\"_blank\" href=https://colab.research.google.com/notebooks/data_table.ipynb>data table notebook</a>'\n",
              "            + ' to learn more about interactive tables.';\n",
              "          element.innerHTML = '';\n",
              "          dataTable['output_type'] = 'display_data';\n",
              "          await google.colab.output.renderOutput(dataTable, element);\n",
              "          const docLink = document.createElement('div');\n",
              "          docLink.innerHTML = docLinkHtml;\n",
              "          element.appendChild(docLink);\n",
              "        }\n",
              "      </script>\n",
              "    </div>\n",
              "  </div>\n",
              "  "
            ]
          },
          "metadata": {},
          "execution_count": 94
        }
      ]
    },
    {
      "cell_type": "code",
      "source": [
        "X_test.columns = X_test.columns.map(str)"
      ],
      "metadata": {
        "id": "O4S0jm-WGuze"
      },
      "execution_count": null,
      "outputs": []
    },
    {
      "cell_type": "code",
      "source": [
        "y_pred_test = model.predict(X_test)"
      ],
      "metadata": {
        "id": "u8z0IbwiG4AA"
      },
      "execution_count": null,
      "outputs": []
    },
    {
      "cell_type": "code",
      "source": [
        "# посмотрим на первые 10 прогнозных значений\n",
        "y_pred_test[:10]"
      ],
      "metadata": {
        "colab": {
          "base_uri": "https://localhost:8080/"
        },
        "id": "YO4GoO5tG_1X",
        "outputId": "44362d8a-a965-4570-ef22-08b040a809a9"
      },
      "execution_count": null,
      "outputs": [
        {
          "output_type": "execute_result",
          "data": {
            "text/plain": [
              "array([1, 1, 1, 1, 1, 0, 0, 1, 1, 1])"
            ]
          },
          "metadata": {},
          "execution_count": 97
        }
      ]
    },
    {
      "cell_type": "code",
      "source": [
        "# из библиотеки google.colab импортируем класс files\n",
        "from google.colab import files\n",
        "# создаем объект этого класса, применяем метод\n",
        "#.upload()\n",
        "uploaded = files.upload()"
      ],
      "metadata": {
        "colab": {
          "base_uri": "https://localhost:8080/",
          "height": 74
        },
        "id": "ZT8TOcXLSzpM",
        "outputId": "5073f00f-a324-4886-810d-f1d10745d3b0"
      },
      "execution_count": null,
      "outputs": [
        {
          "output_type": "display_data",
          "data": {
            "text/plain": [
              "<IPython.core.display.HTML object>"
            ],
            "text/html": [
              "\n",
              "     <input type=\"file\" id=\"files-cad528e4-6580-495b-af10-57043e1db4db\" name=\"files[]\" multiple disabled\n",
              "        style=\"border:none\" />\n",
              "     <output id=\"result-cad528e4-6580-495b-af10-57043e1db4db\">\n",
              "      Upload widget is only available when the cell has been executed in the\n",
              "      current browser session. Please rerun this cell to enable.\n",
              "      </output>\n",
              "      <script>// Copyright 2017 Google LLC\n",
              "//\n",
              "// Licensed under the Apache License, Version 2.0 (the \"License\");\n",
              "// you may not use this file except in compliance with the License.\n",
              "// You may obtain a copy of the License at\n",
              "//\n",
              "//      http://www.apache.org/licenses/LICENSE-2.0\n",
              "//\n",
              "// Unless required by applicable law or agreed to in writing, software\n",
              "// distributed under the License is distributed on an \"AS IS\" BASIS,\n",
              "// WITHOUT WARRANTIES OR CONDITIONS OF ANY KIND, either express or implied.\n",
              "// See the License for the specific language governing permissions and\n",
              "// limitations under the License.\n",
              "\n",
              "/**\n",
              " * @fileoverview Helpers for google.colab Python module.\n",
              " */\n",
              "(function(scope) {\n",
              "function span(text, styleAttributes = {}) {\n",
              "  const element = document.createElement('span');\n",
              "  element.textContent = text;\n",
              "  for (const key of Object.keys(styleAttributes)) {\n",
              "    element.style[key] = styleAttributes[key];\n",
              "  }\n",
              "  return element;\n",
              "}\n",
              "\n",
              "// Max number of bytes which will be uploaded at a time.\n",
              "const MAX_PAYLOAD_SIZE = 100 * 1024;\n",
              "\n",
              "function _uploadFiles(inputId, outputId) {\n",
              "  const steps = uploadFilesStep(inputId, outputId);\n",
              "  const outputElement = document.getElementById(outputId);\n",
              "  // Cache steps on the outputElement to make it available for the next call\n",
              "  // to uploadFilesContinue from Python.\n",
              "  outputElement.steps = steps;\n",
              "\n",
              "  return _uploadFilesContinue(outputId);\n",
              "}\n",
              "\n",
              "// This is roughly an async generator (not supported in the browser yet),\n",
              "// where there are multiple asynchronous steps and the Python side is going\n",
              "// to poll for completion of each step.\n",
              "// This uses a Promise to block the python side on completion of each step,\n",
              "// then passes the result of the previous step as the input to the next step.\n",
              "function _uploadFilesContinue(outputId) {\n",
              "  const outputElement = document.getElementById(outputId);\n",
              "  const steps = outputElement.steps;\n",
              "\n",
              "  const next = steps.next(outputElement.lastPromiseValue);\n",
              "  return Promise.resolve(next.value.promise).then((value) => {\n",
              "    // Cache the last promise value to make it available to the next\n",
              "    // step of the generator.\n",
              "    outputElement.lastPromiseValue = value;\n",
              "    return next.value.response;\n",
              "  });\n",
              "}\n",
              "\n",
              "/**\n",
              " * Generator function which is called between each async step of the upload\n",
              " * process.\n",
              " * @param {string} inputId Element ID of the input file picker element.\n",
              " * @param {string} outputId Element ID of the output display.\n",
              " * @return {!Iterable<!Object>} Iterable of next steps.\n",
              " */\n",
              "function* uploadFilesStep(inputId, outputId) {\n",
              "  const inputElement = document.getElementById(inputId);\n",
              "  inputElement.disabled = false;\n",
              "\n",
              "  const outputElement = document.getElementById(outputId);\n",
              "  outputElement.innerHTML = '';\n",
              "\n",
              "  const pickedPromise = new Promise((resolve) => {\n",
              "    inputElement.addEventListener('change', (e) => {\n",
              "      resolve(e.target.files);\n",
              "    });\n",
              "  });\n",
              "\n",
              "  const cancel = document.createElement('button');\n",
              "  inputElement.parentElement.appendChild(cancel);\n",
              "  cancel.textContent = 'Cancel upload';\n",
              "  const cancelPromise = new Promise((resolve) => {\n",
              "    cancel.onclick = () => {\n",
              "      resolve(null);\n",
              "    };\n",
              "  });\n",
              "\n",
              "  // Wait for the user to pick the files.\n",
              "  const files = yield {\n",
              "    promise: Promise.race([pickedPromise, cancelPromise]),\n",
              "    response: {\n",
              "      action: 'starting',\n",
              "    }\n",
              "  };\n",
              "\n",
              "  cancel.remove();\n",
              "\n",
              "  // Disable the input element since further picks are not allowed.\n",
              "  inputElement.disabled = true;\n",
              "\n",
              "  if (!files) {\n",
              "    return {\n",
              "      response: {\n",
              "        action: 'complete',\n",
              "      }\n",
              "    };\n",
              "  }\n",
              "\n",
              "  for (const file of files) {\n",
              "    const li = document.createElement('li');\n",
              "    li.append(span(file.name, {fontWeight: 'bold'}));\n",
              "    li.append(span(\n",
              "        `(${file.type || 'n/a'}) - ${file.size} bytes, ` +\n",
              "        `last modified: ${\n",
              "            file.lastModifiedDate ? file.lastModifiedDate.toLocaleDateString() :\n",
              "                                    'n/a'} - `));\n",
              "    const percent = span('0% done');\n",
              "    li.appendChild(percent);\n",
              "\n",
              "    outputElement.appendChild(li);\n",
              "\n",
              "    const fileDataPromise = new Promise((resolve) => {\n",
              "      const reader = new FileReader();\n",
              "      reader.onload = (e) => {\n",
              "        resolve(e.target.result);\n",
              "      };\n",
              "      reader.readAsArrayBuffer(file);\n",
              "    });\n",
              "    // Wait for the data to be ready.\n",
              "    let fileData = yield {\n",
              "      promise: fileDataPromise,\n",
              "      response: {\n",
              "        action: 'continue',\n",
              "      }\n",
              "    };\n",
              "\n",
              "    // Use a chunked sending to avoid message size limits. See b/62115660.\n",
              "    let position = 0;\n",
              "    do {\n",
              "      const length = Math.min(fileData.byteLength - position, MAX_PAYLOAD_SIZE);\n",
              "      const chunk = new Uint8Array(fileData, position, length);\n",
              "      position += length;\n",
              "\n",
              "      const base64 = btoa(String.fromCharCode.apply(null, chunk));\n",
              "      yield {\n",
              "        response: {\n",
              "          action: 'append',\n",
              "          file: file.name,\n",
              "          data: base64,\n",
              "        },\n",
              "      };\n",
              "\n",
              "      let percentDone = fileData.byteLength === 0 ?\n",
              "          100 :\n",
              "          Math.round((position / fileData.byteLength) * 100);\n",
              "      percent.textContent = `${percentDone}% done`;\n",
              "\n",
              "    } while (position < fileData.byteLength);\n",
              "  }\n",
              "\n",
              "  // All done.\n",
              "  yield {\n",
              "    response: {\n",
              "      action: 'complete',\n",
              "    }\n",
              "  };\n",
              "}\n",
              "\n",
              "scope.google = scope.google || {};\n",
              "scope.google.colab = scope.google.colab || {};\n",
              "scope.google.colab._files = {\n",
              "  _uploadFiles,\n",
              "  _uploadFilesContinue,\n",
              "};\n",
              "})(self);\n",
              "</script> "
            ]
          },
          "metadata": {}
        },
        {
          "output_type": "stream",
          "name": "stdout",
          "text": [
            "Saving MOCK_DATA.csv to MOCK_DATA.csv\n"
          ]
        }
      ]
    },
    {
      "cell_type": "code",
      "source": [
        "example = pd.read_csv('/content/MOCK_DATA.csv')"
      ],
      "metadata": {
        "id": "CWifKxZ5TCUC"
      },
      "execution_count": null,
      "outputs": []
    },
    {
      "cell_type": "code",
      "source": [
        "example.head(3)"
      ],
      "metadata": {
        "colab": {
          "base_uri": "https://localhost:8080/",
          "height": 143
        },
        "id": "NvVuNB8aTcAG",
        "outputId": "bce6fdb1-4605-4e44-8cc6-fab493406c8a"
      },
      "execution_count": null,
      "outputs": [
        {
          "output_type": "execute_result",
          "data": {
            "text/plain": [
              "   id  Sex\n",
              "0   1    0\n",
              "1   2    0\n",
              "2   3    1"
            ],
            "text/html": [
              "\n",
              "  <div id=\"df-5f2dd3ee-7131-4ef6-afa9-983225662596\">\n",
              "    <div class=\"colab-df-container\">\n",
              "      <div>\n",
              "<style scoped>\n",
              "    .dataframe tbody tr th:only-of-type {\n",
              "        vertical-align: middle;\n",
              "    }\n",
              "\n",
              "    .dataframe tbody tr th {\n",
              "        vertical-align: top;\n",
              "    }\n",
              "\n",
              "    .dataframe thead th {\n",
              "        text-align: right;\n",
              "    }\n",
              "</style>\n",
              "<table border=\"1\" class=\"dataframe\">\n",
              "  <thead>\n",
              "    <tr style=\"text-align: right;\">\n",
              "      <th></th>\n",
              "      <th>id</th>\n",
              "      <th>Sex</th>\n",
              "    </tr>\n",
              "  </thead>\n",
              "  <tbody>\n",
              "    <tr>\n",
              "      <th>0</th>\n",
              "      <td>1</td>\n",
              "      <td>0</td>\n",
              "    </tr>\n",
              "    <tr>\n",
              "      <th>1</th>\n",
              "      <td>2</td>\n",
              "      <td>0</td>\n",
              "    </tr>\n",
              "    <tr>\n",
              "      <th>2</th>\n",
              "      <td>3</td>\n",
              "      <td>1</td>\n",
              "    </tr>\n",
              "  </tbody>\n",
              "</table>\n",
              "</div>\n",
              "      <button class=\"colab-df-convert\" onclick=\"convertToInteractive('df-5f2dd3ee-7131-4ef6-afa9-983225662596')\"\n",
              "              title=\"Convert this dataframe to an interactive table.\"\n",
              "              style=\"display:none;\">\n",
              "        \n",
              "  <svg xmlns=\"http://www.w3.org/2000/svg\" height=\"24px\"viewBox=\"0 0 24 24\"\n",
              "       width=\"24px\">\n",
              "    <path d=\"M0 0h24v24H0V0z\" fill=\"none\"/>\n",
              "    <path d=\"M18.56 5.44l.94 2.06.94-2.06 2.06-.94-2.06-.94-.94-2.06-.94 2.06-2.06.94zm-11 1L8.5 8.5l.94-2.06 2.06-.94-2.06-.94L8.5 2.5l-.94 2.06-2.06.94zm10 10l.94 2.06.94-2.06 2.06-.94-2.06-.94-.94-2.06-.94 2.06-2.06.94z\"/><path d=\"M17.41 7.96l-1.37-1.37c-.4-.4-.92-.59-1.43-.59-.52 0-1.04.2-1.43.59L10.3 9.45l-7.72 7.72c-.78.78-.78 2.05 0 2.83L4 21.41c.39.39.9.59 1.41.59.51 0 1.02-.2 1.41-.59l7.78-7.78 2.81-2.81c.8-.78.8-2.07 0-2.86zM5.41 20L4 18.59l7.72-7.72 1.47 1.35L5.41 20z\"/>\n",
              "  </svg>\n",
              "      </button>\n",
              "      \n",
              "  <style>\n",
              "    .colab-df-container {\n",
              "      display:flex;\n",
              "      flex-wrap:wrap;\n",
              "      gap: 12px;\n",
              "    }\n",
              "\n",
              "    .colab-df-convert {\n",
              "      background-color: #E8F0FE;\n",
              "      border: none;\n",
              "      border-radius: 50%;\n",
              "      cursor: pointer;\n",
              "      display: none;\n",
              "      fill: #1967D2;\n",
              "      height: 32px;\n",
              "      padding: 0 0 0 0;\n",
              "      width: 32px;\n",
              "    }\n",
              "\n",
              "    .colab-df-convert:hover {\n",
              "      background-color: #E2EBFA;\n",
              "      box-shadow: 0px 1px 2px rgba(60, 64, 67, 0.3), 0px 1px 3px 1px rgba(60, 64, 67, 0.15);\n",
              "      fill: #174EA6;\n",
              "    }\n",
              "\n",
              "    [theme=dark] .colab-df-convert {\n",
              "      background-color: #3B4455;\n",
              "      fill: #D2E3FC;\n",
              "    }\n",
              "\n",
              "    [theme=dark] .colab-df-convert:hover {\n",
              "      background-color: #434B5C;\n",
              "      box-shadow: 0px 1px 3px 1px rgba(0, 0, 0, 0.15);\n",
              "      filter: drop-shadow(0px 1px 2px rgba(0, 0, 0, 0.3));\n",
              "      fill: #FFFFFF;\n",
              "    }\n",
              "  </style>\n",
              "\n",
              "      <script>\n",
              "        const buttonEl =\n",
              "          document.querySelector('#df-5f2dd3ee-7131-4ef6-afa9-983225662596 button.colab-df-convert');\n",
              "        buttonEl.style.display =\n",
              "          google.colab.kernel.accessAllowed ? 'block' : 'none';\n",
              "\n",
              "        async function convertToInteractive(key) {\n",
              "          const element = document.querySelector('#df-5f2dd3ee-7131-4ef6-afa9-983225662596');\n",
              "          const dataTable =\n",
              "            await google.colab.kernel.invokeFunction('convertToInteractive',\n",
              "                                                     [key], {});\n",
              "          if (!dataTable) return;\n",
              "\n",
              "          const docLinkHtml = 'Like what you see? Visit the ' +\n",
              "            '<a target=\"_blank\" href=https://colab.research.google.com/notebooks/data_table.ipynb>data table notebook</a>'\n",
              "            + ' to learn more about interactive tables.';\n",
              "          element.innerHTML = '';\n",
              "          dataTable['output_type'] = 'display_data';\n",
              "          await google.colab.output.renderOutput(dataTable, element);\n",
              "          const docLink = document.createElement('div');\n",
              "          docLink.innerHTML = docLinkHtml;\n",
              "          element.appendChild(docLink);\n",
              "        }\n",
              "      </script>\n",
              "    </div>\n",
              "  </div>\n",
              "  "
            ]
          },
          "metadata": {},
          "execution_count": 102
        }
      ]
    },
    {
      "cell_type": "code",
      "source": [
        "# возьмем индекс доноров из столбца id тестовой выборки\n",
        "ids = example['id']\n",
        "\n",
        "# создадим датафрейм из словаря, в котором\n",
        "# первая пара ключа и значения - это id донора, вторая - прогноз \"на тесте\"\n",
        "result = pd.DataFrame({'id': ids,'Sex': y_pred_test})\n",
        "\n",
        "# посмотрим, что получилось\n",
        "result.head()"
      ],
      "metadata": {
        "colab": {
          "base_uri": "https://localhost:8080/",
          "height": 206
        },
        "id": "PjV37saATsJ7",
        "outputId": "914d97bb-80ef-4b94-e3ce-bc28d0238568"
      },
      "execution_count": null,
      "outputs": [
        {
          "output_type": "execute_result",
          "data": {
            "text/plain": [
              "   id  Sex\n",
              "0   1    1\n",
              "1   2    1\n",
              "2   3    1\n",
              "3   4    1\n",
              "4   5    1"
            ],
            "text/html": [
              "\n",
              "  <div id=\"df-9923d852-5e4e-4d08-9d25-68639da80d12\">\n",
              "    <div class=\"colab-df-container\">\n",
              "      <div>\n",
              "<style scoped>\n",
              "    .dataframe tbody tr th:only-of-type {\n",
              "        vertical-align: middle;\n",
              "    }\n",
              "\n",
              "    .dataframe tbody tr th {\n",
              "        vertical-align: top;\n",
              "    }\n",
              "\n",
              "    .dataframe thead th {\n",
              "        text-align: right;\n",
              "    }\n",
              "</style>\n",
              "<table border=\"1\" class=\"dataframe\">\n",
              "  <thead>\n",
              "    <tr style=\"text-align: right;\">\n",
              "      <th></th>\n",
              "      <th>id</th>\n",
              "      <th>Sex</th>\n",
              "    </tr>\n",
              "  </thead>\n",
              "  <tbody>\n",
              "    <tr>\n",
              "      <th>0</th>\n",
              "      <td>1</td>\n",
              "      <td>1</td>\n",
              "    </tr>\n",
              "    <tr>\n",
              "      <th>1</th>\n",
              "      <td>2</td>\n",
              "      <td>1</td>\n",
              "    </tr>\n",
              "    <tr>\n",
              "      <th>2</th>\n",
              "      <td>3</td>\n",
              "      <td>1</td>\n",
              "    </tr>\n",
              "    <tr>\n",
              "      <th>3</th>\n",
              "      <td>4</td>\n",
              "      <td>1</td>\n",
              "    </tr>\n",
              "    <tr>\n",
              "      <th>4</th>\n",
              "      <td>5</td>\n",
              "      <td>1</td>\n",
              "    </tr>\n",
              "  </tbody>\n",
              "</table>\n",
              "</div>\n",
              "      <button class=\"colab-df-convert\" onclick=\"convertToInteractive('df-9923d852-5e4e-4d08-9d25-68639da80d12')\"\n",
              "              title=\"Convert this dataframe to an interactive table.\"\n",
              "              style=\"display:none;\">\n",
              "        \n",
              "  <svg xmlns=\"http://www.w3.org/2000/svg\" height=\"24px\"viewBox=\"0 0 24 24\"\n",
              "       width=\"24px\">\n",
              "    <path d=\"M0 0h24v24H0V0z\" fill=\"none\"/>\n",
              "    <path d=\"M18.56 5.44l.94 2.06.94-2.06 2.06-.94-2.06-.94-.94-2.06-.94 2.06-2.06.94zm-11 1L8.5 8.5l.94-2.06 2.06-.94-2.06-.94L8.5 2.5l-.94 2.06-2.06.94zm10 10l.94 2.06.94-2.06 2.06-.94-2.06-.94-.94-2.06-.94 2.06-2.06.94z\"/><path d=\"M17.41 7.96l-1.37-1.37c-.4-.4-.92-.59-1.43-.59-.52 0-1.04.2-1.43.59L10.3 9.45l-7.72 7.72c-.78.78-.78 2.05 0 2.83L4 21.41c.39.39.9.59 1.41.59.51 0 1.02-.2 1.41-.59l7.78-7.78 2.81-2.81c.8-.78.8-2.07 0-2.86zM5.41 20L4 18.59l7.72-7.72 1.47 1.35L5.41 20z\"/>\n",
              "  </svg>\n",
              "      </button>\n",
              "      \n",
              "  <style>\n",
              "    .colab-df-container {\n",
              "      display:flex;\n",
              "      flex-wrap:wrap;\n",
              "      gap: 12px;\n",
              "    }\n",
              "\n",
              "    .colab-df-convert {\n",
              "      background-color: #E8F0FE;\n",
              "      border: none;\n",
              "      border-radius: 50%;\n",
              "      cursor: pointer;\n",
              "      display: none;\n",
              "      fill: #1967D2;\n",
              "      height: 32px;\n",
              "      padding: 0 0 0 0;\n",
              "      width: 32px;\n",
              "    }\n",
              "\n",
              "    .colab-df-convert:hover {\n",
              "      background-color: #E2EBFA;\n",
              "      box-shadow: 0px 1px 2px rgba(60, 64, 67, 0.3), 0px 1px 3px 1px rgba(60, 64, 67, 0.15);\n",
              "      fill: #174EA6;\n",
              "    }\n",
              "\n",
              "    [theme=dark] .colab-df-convert {\n",
              "      background-color: #3B4455;\n",
              "      fill: #D2E3FC;\n",
              "    }\n",
              "\n",
              "    [theme=dark] .colab-df-convert:hover {\n",
              "      background-color: #434B5C;\n",
              "      box-shadow: 0px 1px 3px 1px rgba(0, 0, 0, 0.15);\n",
              "      filter: drop-shadow(0px 1px 2px rgba(0, 0, 0, 0.3));\n",
              "      fill: #FFFFFF;\n",
              "    }\n",
              "  </style>\n",
              "\n",
              "      <script>\n",
              "        const buttonEl =\n",
              "          document.querySelector('#df-9923d852-5e4e-4d08-9d25-68639da80d12 button.colab-df-convert');\n",
              "        buttonEl.style.display =\n",
              "          google.colab.kernel.accessAllowed ? 'block' : 'none';\n",
              "\n",
              "        async function convertToInteractive(key) {\n",
              "          const element = document.querySelector('#df-9923d852-5e4e-4d08-9d25-68639da80d12');\n",
              "          const dataTable =\n",
              "            await google.colab.kernel.invokeFunction('convertToInteractive',\n",
              "                                                     [key], {});\n",
              "          if (!dataTable) return;\n",
              "\n",
              "          const docLinkHtml = 'Like what you see? Visit the ' +\n",
              "            '<a target=\"_blank\" href=https://colab.research.google.com/notebooks/data_table.ipynb>data table notebook</a>'\n",
              "            + ' to learn more about interactive tables.';\n",
              "          element.innerHTML = '';\n",
              "          dataTable['output_type'] = 'display_data';\n",
              "          await google.colab.output.renderOutput(dataTable, element);\n",
              "          const docLink = document.createElement('div');\n",
              "          docLink.innerHTML = docLinkHtml;\n",
              "          element.appendChild(docLink);\n",
              "        }\n",
              "      </script>\n",
              "    </div>\n",
              "  </div>\n",
              "  "
            ]
          },
          "metadata": {},
          "execution_count": 104
        }
      ]
    },
    {
      "cell_type": "code",
      "source": [
        "# создадим новый файл result.csv с помощью функции to_csv(), удалив при этом индекс\n",
        "result.to_csv('result.csv', index = False)\n",
        "\n",
        "# файл будет сохранен в 'Сессионном хранилище' и, если все пройдет успешно, выведем следующий текст:\n",
        "print('Файл успешно сохранился в сессионное хранилище!')"
      ],
      "metadata": {
        "colab": {
          "base_uri": "https://localhost:8080/"
        },
        "id": "XI2r60ykVLri",
        "outputId": "665ff964-2688-4c0e-cb26-4b224fe8704b"
      },
      "execution_count": null,
      "outputs": [
        {
          "output_type": "stream",
          "name": "stdout",
          "text": [
            "Файл успешно сохранился в сессионное хранилище!\n"
          ]
        }
      ]
    },
    {
      "cell_type": "code",
      "source": [
        "# применим метод .download() объекта files\n",
        "files.download('/content/result.csv')"
      ],
      "metadata": {
        "id": "ailMQVTvV3vM",
        "outputId": "e39094f7-4459-493c-b141-2dd4783189a8",
        "colab": {
          "base_uri": "https://localhost:8080/",
          "height": 34
        }
      },
      "execution_count": null,
      "outputs": [
        {
          "output_type": "display_data",
          "data": {
            "text/plain": [
              "<IPython.core.display.Javascript object>"
            ],
            "application/javascript": [
              "\n",
              "    async function download(id, filename, size) {\n",
              "      if (!google.colab.kernel.accessAllowed) {\n",
              "        return;\n",
              "      }\n",
              "      const div = document.createElement('div');\n",
              "      const label = document.createElement('label');\n",
              "      label.textContent = `Downloading \"${filename}\": `;\n",
              "      div.appendChild(label);\n",
              "      const progress = document.createElement('progress');\n",
              "      progress.max = size;\n",
              "      div.appendChild(progress);\n",
              "      document.body.appendChild(div);\n",
              "\n",
              "      const buffers = [];\n",
              "      let downloaded = 0;\n",
              "\n",
              "      const channel = await google.colab.kernel.comms.open(id);\n",
              "      // Send a message to notify the kernel that we're ready.\n",
              "      channel.send({})\n",
              "\n",
              "      for await (const message of channel.messages) {\n",
              "        // Send a message to notify the kernel that we're ready.\n",
              "        channel.send({})\n",
              "        if (message.buffers) {\n",
              "          for (const buffer of message.buffers) {\n",
              "            buffers.push(buffer);\n",
              "            downloaded += buffer.byteLength;\n",
              "            progress.value = downloaded;\n",
              "          }\n",
              "        }\n",
              "      }\n",
              "      const blob = new Blob(buffers, {type: 'application/binary'});\n",
              "      const a = document.createElement('a');\n",
              "      a.href = window.URL.createObjectURL(blob);\n",
              "      a.download = filename;\n",
              "      div.appendChild(a);\n",
              "      a.click();\n",
              "      div.remove();\n",
              "    }\n",
              "  "
            ]
          },
          "metadata": {}
        },
        {
          "output_type": "display_data",
          "data": {
            "text/plain": [
              "<IPython.core.display.Javascript object>"
            ],
            "application/javascript": [
              "download(\"download_35ac0925-1117-48df-b5dd-75ea67662bf3\", \"result.csv\", 4387)"
            ]
          },
          "metadata": {}
        }
      ]
    }
  ]
}